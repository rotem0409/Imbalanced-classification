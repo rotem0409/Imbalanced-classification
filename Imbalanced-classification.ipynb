{
 "cells": [
  {
   "cell_type": "markdown",
   "metadata": {},
   "source": [
    "# Imbalanced classification"
   ]
  },
  {
   "cell_type": "markdown",
   "metadata": {},
   "source": [
    "## By: Rotem Klein "
   ]
  },
  {
   "cell_type": "markdown",
   "metadata": {},
   "source": [
    "$$ $$\n",
    "In this project, I will present a classification of unbalanced data.\n",
    "$$ $$\n",
    "The dataset contains transactions made by credit cards in September 2013 by european cardholders. This dataset presents transactions that occurred during two days. \n",
    "It contains only numerical input variables which are the result of a PCA transformation.\n",
    "The provided data does not include all the original features due to confidential issues. Features V1, V2, … V28 are the principal components obtained with PCA. \n",
    "The only features which have not been transformed with PCA are 'Time' and 'Amount'. \n",
    "The feature 'Time' measures the seconds elapsed between each transaction and the first transaction in the dataset. The feature 'Amount' is the transaction Amount. \n",
    "The feature 'Class' is the response variable: 1 marks fraud, while 0 is otherwise. \n",
    "$$ $$\n",
    "The dataset was taken from Kaggle: https://www.kaggle.com/mlg-ulb/creditcardfraud\n",
    "(I will use the first 152,286 rows of the data)."
   ]
  },
  {
   "cell_type": "code",
   "execution_count": 28,
   "metadata": {},
   "outputs": [],
   "source": [
    "# importing relevant libraries\n",
    "import pandas as pd\n",
    "import numpy as np\n",
    "\n",
    "import sklearn\n",
    "from sklearn.model_selection import train_test_split\n",
    "from sklearn.metrics import accuracy_score\n",
    "from sklearn.model_selection import GridSearchCV\n",
    "from sklearn.linear_model import LogisticRegression\n",
    "from sklearn.model_selection import GridSearchCV\n",
    "from sklearn.ensemble import RandomForestClassifier, GradientBoostingClassifier\n",
    "from sklearn.svm import SVC\n",
    "from sklearn.utils import shuffle\n",
    "from sklearn.metrics import confusion_matrix\n",
    "from imblearn import under_sampling, over_sampling\n",
    "\n",
    "import seaborn as sns\n",
    "import matplotlib.pyplot as plt\n",
    "import random\n",
    "\n",
    "random.seed(123)"
   ]
  },
  {
   "cell_type": "markdown",
   "metadata": {},
   "source": [
    "## The Data"
   ]
  },
  {
   "cell_type": "code",
   "execution_count": 29,
   "metadata": {},
   "outputs": [
    {
     "data": {
      "text/html": [
       "<div>\n",
       "<style scoped>\n",
       "    .dataframe tbody tr th:only-of-type {\n",
       "        vertical-align: middle;\n",
       "    }\n",
       "\n",
       "    .dataframe tbody tr th {\n",
       "        vertical-align: top;\n",
       "    }\n",
       "\n",
       "    .dataframe thead th {\n",
       "        text-align: right;\n",
       "    }\n",
       "</style>\n",
       "<table border=\"1\" class=\"dataframe\">\n",
       "  <thead>\n",
       "    <tr style=\"text-align: right;\">\n",
       "      <th></th>\n",
       "      <th>Time</th>\n",
       "      <th>V1</th>\n",
       "      <th>V2</th>\n",
       "      <th>V3</th>\n",
       "      <th>V4</th>\n",
       "      <th>V5</th>\n",
       "      <th>V6</th>\n",
       "      <th>V7</th>\n",
       "      <th>V8</th>\n",
       "      <th>V9</th>\n",
       "      <th>...</th>\n",
       "      <th>V21</th>\n",
       "      <th>V22</th>\n",
       "      <th>V23</th>\n",
       "      <th>V24</th>\n",
       "      <th>V25</th>\n",
       "      <th>V26</th>\n",
       "      <th>V27</th>\n",
       "      <th>V28</th>\n",
       "      <th>Amount</th>\n",
       "      <th>Class</th>\n",
       "    </tr>\n",
       "  </thead>\n",
       "  <tbody>\n",
       "    <tr>\n",
       "      <th>0</th>\n",
       "      <td>168693.0</td>\n",
       "      <td>-2.410025</td>\n",
       "      <td>-1.432871</td>\n",
       "      <td>1.373919</td>\n",
       "      <td>-2.507625</td>\n",
       "      <td>-1.697742</td>\n",
       "      <td>-0.544289</td>\n",
       "      <td>-1.293413</td>\n",
       "      <td>0.849440</td>\n",
       "      <td>-2.024631</td>\n",
       "      <td>...</td>\n",
       "      <td>0.044517</td>\n",
       "      <td>-0.026928</td>\n",
       "      <td>-0.232544</td>\n",
       "      <td>-0.100905</td>\n",
       "      <td>0.384982</td>\n",
       "      <td>-0.207308</td>\n",
       "      <td>-0.205183</td>\n",
       "      <td>-0.327786</td>\n",
       "      <td>101.96</td>\n",
       "      <td>0</td>\n",
       "    </tr>\n",
       "    <tr>\n",
       "      <th>1</th>\n",
       "      <td>118549.0</td>\n",
       "      <td>-0.233408</td>\n",
       "      <td>0.836979</td>\n",
       "      <td>-0.213454</td>\n",
       "      <td>-1.449573</td>\n",
       "      <td>0.997381</td>\n",
       "      <td>-0.992416</td>\n",
       "      <td>1.261875</td>\n",
       "      <td>-0.367021</td>\n",
       "      <td>0.394419</td>\n",
       "      <td>...</td>\n",
       "      <td>0.324950</td>\n",
       "      <td>1.393384</td>\n",
       "      <td>-0.248714</td>\n",
       "      <td>-0.313350</td>\n",
       "      <td>-0.572191</td>\n",
       "      <td>-0.621261</td>\n",
       "      <td>0.443084</td>\n",
       "      <td>0.149534</td>\n",
       "      <td>5.81</td>\n",
       "      <td>0</td>\n",
       "    </tr>\n",
       "    <tr>\n",
       "      <th>2</th>\n",
       "      <td>76258.0</td>\n",
       "      <td>1.352543</td>\n",
       "      <td>-1.074605</td>\n",
       "      <td>-0.025568</td>\n",
       "      <td>-1.529348</td>\n",
       "      <td>-0.888643</td>\n",
       "      <td>-0.040194</td>\n",
       "      <td>-0.774928</td>\n",
       "      <td>0.091264</td>\n",
       "      <td>-2.318066</td>\n",
       "      <td>...</td>\n",
       "      <td>-0.410819</td>\n",
       "      <td>-0.921721</td>\n",
       "      <td>0.204471</td>\n",
       "      <td>-0.373019</td>\n",
       "      <td>0.085152</td>\n",
       "      <td>-0.438247</td>\n",
       "      <td>0.024120</td>\n",
       "      <td>0.003700</td>\n",
       "      <td>44.95</td>\n",
       "      <td>0</td>\n",
       "    </tr>\n",
       "    <tr>\n",
       "      <th>3</th>\n",
       "      <td>36474.0</td>\n",
       "      <td>-4.564317</td>\n",
       "      <td>-4.877094</td>\n",
       "      <td>1.407992</td>\n",
       "      <td>0.780386</td>\n",
       "      <td>-0.120295</td>\n",
       "      <td>-0.408491</td>\n",
       "      <td>-0.736098</td>\n",
       "      <td>1.032603</td>\n",
       "      <td>-1.165996</td>\n",
       "      <td>...</td>\n",
       "      <td>0.410231</td>\n",
       "      <td>-0.735606</td>\n",
       "      <td>1.074129</td>\n",
       "      <td>-0.118351</td>\n",
       "      <td>0.309854</td>\n",
       "      <td>-0.499497</td>\n",
       "      <td>-0.134161</td>\n",
       "      <td>-0.519133</td>\n",
       "      <td>533.76</td>\n",
       "      <td>0</td>\n",
       "    </tr>\n",
       "    <tr>\n",
       "      <th>4</th>\n",
       "      <td>142785.0</td>\n",
       "      <td>0.477111</td>\n",
       "      <td>0.880224</td>\n",
       "      <td>-0.153527</td>\n",
       "      <td>0.940528</td>\n",
       "      <td>0.769459</td>\n",
       "      <td>-0.392702</td>\n",
       "      <td>0.670287</td>\n",
       "      <td>-0.299183</td>\n",
       "      <td>-0.608578</td>\n",
       "      <td>...</td>\n",
       "      <td>0.426408</td>\n",
       "      <td>1.490050</td>\n",
       "      <td>-0.102636</td>\n",
       "      <td>0.767108</td>\n",
       "      <td>-0.931175</td>\n",
       "      <td>0.123492</td>\n",
       "      <td>0.316876</td>\n",
       "      <td>0.276006</td>\n",
       "      <td>1.29</td>\n",
       "      <td>0</td>\n",
       "    </tr>\n",
       "  </tbody>\n",
       "</table>\n",
       "<p>5 rows × 31 columns</p>\n",
       "</div>"
      ],
      "text/plain": [
       "       Time        V1        V2        V3        V4        V5        V6  \\\n",
       "0  168693.0 -2.410025 -1.432871  1.373919 -2.507625 -1.697742 -0.544289   \n",
       "1  118549.0 -0.233408  0.836979 -0.213454 -1.449573  0.997381 -0.992416   \n",
       "2   76258.0  1.352543 -1.074605 -0.025568 -1.529348 -0.888643 -0.040194   \n",
       "3   36474.0 -4.564317 -4.877094  1.407992  0.780386 -0.120295 -0.408491   \n",
       "4  142785.0  0.477111  0.880224 -0.153527  0.940528  0.769459 -0.392702   \n",
       "\n",
       "         V7        V8        V9  ...       V21       V22       V23       V24  \\\n",
       "0 -1.293413  0.849440 -2.024631  ...  0.044517 -0.026928 -0.232544 -0.100905   \n",
       "1  1.261875 -0.367021  0.394419  ...  0.324950  1.393384 -0.248714 -0.313350   \n",
       "2 -0.774928  0.091264 -2.318066  ... -0.410819 -0.921721  0.204471 -0.373019   \n",
       "3 -0.736098  1.032603 -1.165996  ...  0.410231 -0.735606  1.074129 -0.118351   \n",
       "4  0.670287 -0.299183 -0.608578  ...  0.426408  1.490050 -0.102636  0.767108   \n",
       "\n",
       "        V25       V26       V27       V28  Amount  Class  \n",
       "0  0.384982 -0.207308 -0.205183 -0.327786  101.96      0  \n",
       "1 -0.572191 -0.621261  0.443084  0.149534    5.81      0  \n",
       "2  0.085152 -0.438247  0.024120  0.003700   44.95      0  \n",
       "3  0.309854 -0.499497 -0.134161 -0.519133  533.76      0  \n",
       "4 -0.931175  0.123492  0.316876  0.276006    1.29      0  \n",
       "\n",
       "[5 rows x 31 columns]"
      ]
     },
     "execution_count": 29,
     "metadata": {},
     "output_type": "execute_result"
    }
   ],
   "source": [
    "df = pd.read_csv('.\\creditcard.csv')\n",
    "df.head()"
   ]
  },
  {
   "cell_type": "code",
   "execution_count": 30,
   "metadata": {},
   "outputs": [],
   "source": [
    "# deleting 'Time' column\n",
    "df = df.drop(['Time'], axis = 1)"
   ]
  },
  {
   "cell_type": "code",
   "execution_count": 31,
   "metadata": {},
   "outputs": [
    {
     "name": "stdout",
     "output_type": "stream",
     "text": [
      "Positive =  268\n",
      "Negative =  152017\n",
      "Total =  152285\n",
      "The amount of frauds =  0.176\n"
     ]
    }
   ],
   "source": [
    "negative, positive = np.bincount(df['Class'])\n",
    "total = negative + positive\n",
    "print('Positive = ',(positive))\n",
    "print('Negative = ',(negative))\n",
    "print('Total = ',(total))\n",
    "print('The amount of frauds = ', round(100 * (positive/total), 3))"
   ]
  },
  {
   "cell_type": "markdown",
   "metadata": {},
   "source": [
    "We can see that we have 268 frauds out of 152,285 transactions. The dataset is highly unbalanced, \n",
    "the positive class (frauds) account for 0.176% of all transactions."
   ]
  },
  {
   "cell_type": "markdown",
   "metadata": {},
   "source": [
    "#### Descriptive statistics"
   ]
  },
  {
   "cell_type": "code",
   "execution_count": 32,
   "metadata": {},
   "outputs": [
    {
     "data": {
      "text/html": [
       "<div>\n",
       "<style scoped>\n",
       "    .dataframe tbody tr th:only-of-type {\n",
       "        vertical-align: middle;\n",
       "    }\n",
       "\n",
       "    .dataframe tbody tr th {\n",
       "        vertical-align: top;\n",
       "    }\n",
       "\n",
       "    .dataframe thead th {\n",
       "        text-align: right;\n",
       "    }\n",
       "</style>\n",
       "<table border=\"1\" class=\"dataframe\">\n",
       "  <thead>\n",
       "    <tr style=\"text-align: right;\">\n",
       "      <th></th>\n",
       "      <th>V1</th>\n",
       "      <th>V2</th>\n",
       "      <th>V3</th>\n",
       "      <th>V4</th>\n",
       "      <th>V5</th>\n",
       "      <th>V6</th>\n",
       "      <th>V7</th>\n",
       "      <th>V8</th>\n",
       "      <th>V9</th>\n",
       "      <th>V10</th>\n",
       "      <th>...</th>\n",
       "      <th>V21</th>\n",
       "      <th>V22</th>\n",
       "      <th>V23</th>\n",
       "      <th>V24</th>\n",
       "      <th>V25</th>\n",
       "      <th>V26</th>\n",
       "      <th>V27</th>\n",
       "      <th>V28</th>\n",
       "      <th>Amount</th>\n",
       "      <th>Class</th>\n",
       "    </tr>\n",
       "  </thead>\n",
       "  <tbody>\n",
       "    <tr>\n",
       "      <th>count</th>\n",
       "      <td>152285.000000</td>\n",
       "      <td>152285.000000</td>\n",
       "      <td>152285.000000</td>\n",
       "      <td>152285.000000</td>\n",
       "      <td>152285.000000</td>\n",
       "      <td>152285.000000</td>\n",
       "      <td>152285.000000</td>\n",
       "      <td>152285.000000</td>\n",
       "      <td>152285.000000</td>\n",
       "      <td>152285.000000</td>\n",
       "      <td>...</td>\n",
       "      <td>152285.000000</td>\n",
       "      <td>152285.000000</td>\n",
       "      <td>152285.000000</td>\n",
       "      <td>152285.000000</td>\n",
       "      <td>152285.000000</td>\n",
       "      <td>152285.000000</td>\n",
       "      <td>152285.000000</td>\n",
       "      <td>152285.000000</td>\n",
       "      <td>152285.000000</td>\n",
       "      <td>152285.000000</td>\n",
       "    </tr>\n",
       "    <tr>\n",
       "      <th>mean</th>\n",
       "      <td>-0.004710</td>\n",
       "      <td>0.004252</td>\n",
       "      <td>0.001579</td>\n",
       "      <td>0.003643</td>\n",
       "      <td>0.002949</td>\n",
       "      <td>-0.001981</td>\n",
       "      <td>-0.000596</td>\n",
       "      <td>-0.000516</td>\n",
       "      <td>-0.001362</td>\n",
       "      <td>-0.001005</td>\n",
       "      <td>...</td>\n",
       "      <td>0.000930</td>\n",
       "      <td>0.002630</td>\n",
       "      <td>0.001341</td>\n",
       "      <td>-0.000263</td>\n",
       "      <td>0.000150</td>\n",
       "      <td>-0.000468</td>\n",
       "      <td>0.000529</td>\n",
       "      <td>0.000128</td>\n",
       "      <td>87.535348</td>\n",
       "      <td>0.001760</td>\n",
       "    </tr>\n",
       "    <tr>\n",
       "      <th>std</th>\n",
       "      <td>1.960674</td>\n",
       "      <td>1.641960</td>\n",
       "      <td>1.512732</td>\n",
       "      <td>1.415187</td>\n",
       "      <td>1.355291</td>\n",
       "      <td>1.321258</td>\n",
       "      <td>1.213399</td>\n",
       "      <td>1.212863</td>\n",
       "      <td>1.100374</td>\n",
       "      <td>1.085628</td>\n",
       "      <td>...</td>\n",
       "      <td>0.748053</td>\n",
       "      <td>0.727481</td>\n",
       "      <td>0.628942</td>\n",
       "      <td>0.605558</td>\n",
       "      <td>0.521585</td>\n",
       "      <td>0.481419</td>\n",
       "      <td>0.401711</td>\n",
       "      <td>0.321064</td>\n",
       "      <td>237.597113</td>\n",
       "      <td>0.041914</td>\n",
       "    </tr>\n",
       "    <tr>\n",
       "      <th>min</th>\n",
       "      <td>-46.855047</td>\n",
       "      <td>-45.607973</td>\n",
       "      <td>-33.680984</td>\n",
       "      <td>-5.683171</td>\n",
       "      <td>-42.147898</td>\n",
       "      <td>-20.367836</td>\n",
       "      <td>-43.557242</td>\n",
       "      <td>-50.943369</td>\n",
       "      <td>-13.434066</td>\n",
       "      <td>-24.588262</td>\n",
       "      <td>...</td>\n",
       "      <td>-22.889347</td>\n",
       "      <td>-8.887017</td>\n",
       "      <td>-44.807735</td>\n",
       "      <td>-2.822384</td>\n",
       "      <td>-10.295397</td>\n",
       "      <td>-2.068561</td>\n",
       "      <td>-22.565679</td>\n",
       "      <td>-11.710896</td>\n",
       "      <td>0.000000</td>\n",
       "      <td>0.000000</td>\n",
       "    </tr>\n",
       "    <tr>\n",
       "      <th>25%</th>\n",
       "      <td>-0.921757</td>\n",
       "      <td>-0.595486</td>\n",
       "      <td>-0.887493</td>\n",
       "      <td>-0.843627</td>\n",
       "      <td>-0.688859</td>\n",
       "      <td>-0.772012</td>\n",
       "      <td>-0.551135</td>\n",
       "      <td>-0.209217</td>\n",
       "      <td>-0.645360</td>\n",
       "      <td>-0.534749</td>\n",
       "      <td>...</td>\n",
       "      <td>-0.227357</td>\n",
       "      <td>-0.538765</td>\n",
       "      <td>-0.161813</td>\n",
       "      <td>-0.354871</td>\n",
       "      <td>-0.316115</td>\n",
       "      <td>-0.326837</td>\n",
       "      <td>-0.070460</td>\n",
       "      <td>-0.053049</td>\n",
       "      <td>5.560000</td>\n",
       "      <td>0.000000</td>\n",
       "    </tr>\n",
       "    <tr>\n",
       "      <th>50%</th>\n",
       "      <td>0.010337</td>\n",
       "      <td>0.067106</td>\n",
       "      <td>0.180365</td>\n",
       "      <td>-0.015499</td>\n",
       "      <td>-0.053044</td>\n",
       "      <td>-0.274148</td>\n",
       "      <td>0.042348</td>\n",
       "      <td>0.023187</td>\n",
       "      <td>-0.052806</td>\n",
       "      <td>-0.093723</td>\n",
       "      <td>...</td>\n",
       "      <td>-0.028311</td>\n",
       "      <td>0.010025</td>\n",
       "      <td>-0.010913</td>\n",
       "      <td>0.040747</td>\n",
       "      <td>0.017111</td>\n",
       "      <td>-0.051857</td>\n",
       "      <td>0.001490</td>\n",
       "      <td>0.011465</td>\n",
       "      <td>22.000000</td>\n",
       "      <td>0.000000</td>\n",
       "    </tr>\n",
       "    <tr>\n",
       "      <th>75%</th>\n",
       "      <td>1.313572</td>\n",
       "      <td>0.807517</td>\n",
       "      <td>1.028232</td>\n",
       "      <td>0.745813</td>\n",
       "      <td>0.614059</td>\n",
       "      <td>0.398029</td>\n",
       "      <td>0.569153</td>\n",
       "      <td>0.328011</td>\n",
       "      <td>0.594646</td>\n",
       "      <td>0.452450</td>\n",
       "      <td>...</td>\n",
       "      <td>0.187179</td>\n",
       "      <td>0.530444</td>\n",
       "      <td>0.147779</td>\n",
       "      <td>0.439801</td>\n",
       "      <td>0.351508</td>\n",
       "      <td>0.240716</td>\n",
       "      <td>0.091538</td>\n",
       "      <td>0.078485</td>\n",
       "      <td>77.700000</td>\n",
       "      <td>0.000000</td>\n",
       "    </tr>\n",
       "    <tr>\n",
       "      <th>max</th>\n",
       "      <td>2.454930</td>\n",
       "      <td>22.057729</td>\n",
       "      <td>9.382558</td>\n",
       "      <td>13.143668</td>\n",
       "      <td>29.162172</td>\n",
       "      <td>22.529298</td>\n",
       "      <td>36.877368</td>\n",
       "      <td>19.587773</td>\n",
       "      <td>15.594995</td>\n",
       "      <td>23.745136</td>\n",
       "      <td>...</td>\n",
       "      <td>27.202839</td>\n",
       "      <td>8.361985</td>\n",
       "      <td>20.803344</td>\n",
       "      <td>4.022866</td>\n",
       "      <td>5.852484</td>\n",
       "      <td>3.517346</td>\n",
       "      <td>12.152401</td>\n",
       "      <td>16.129609</td>\n",
       "      <td>12910.930000</td>\n",
       "      <td>1.000000</td>\n",
       "    </tr>\n",
       "  </tbody>\n",
       "</table>\n",
       "<p>8 rows × 30 columns</p>\n",
       "</div>"
      ],
      "text/plain": [
       "                  V1             V2             V3             V4  \\\n",
       "count  152285.000000  152285.000000  152285.000000  152285.000000   \n",
       "mean       -0.004710       0.004252       0.001579       0.003643   \n",
       "std         1.960674       1.641960       1.512732       1.415187   \n",
       "min       -46.855047     -45.607973     -33.680984      -5.683171   \n",
       "25%        -0.921757      -0.595486      -0.887493      -0.843627   \n",
       "50%         0.010337       0.067106       0.180365      -0.015499   \n",
       "75%         1.313572       0.807517       1.028232       0.745813   \n",
       "max         2.454930      22.057729       9.382558      13.143668   \n",
       "\n",
       "                  V5             V6             V7             V8  \\\n",
       "count  152285.000000  152285.000000  152285.000000  152285.000000   \n",
       "mean        0.002949      -0.001981      -0.000596      -0.000516   \n",
       "std         1.355291       1.321258       1.213399       1.212863   \n",
       "min       -42.147898     -20.367836     -43.557242     -50.943369   \n",
       "25%        -0.688859      -0.772012      -0.551135      -0.209217   \n",
       "50%        -0.053044      -0.274148       0.042348       0.023187   \n",
       "75%         0.614059       0.398029       0.569153       0.328011   \n",
       "max        29.162172      22.529298      36.877368      19.587773   \n",
       "\n",
       "                  V9            V10  ...            V21            V22  \\\n",
       "count  152285.000000  152285.000000  ...  152285.000000  152285.000000   \n",
       "mean       -0.001362      -0.001005  ...       0.000930       0.002630   \n",
       "std         1.100374       1.085628  ...       0.748053       0.727481   \n",
       "min       -13.434066     -24.588262  ...     -22.889347      -8.887017   \n",
       "25%        -0.645360      -0.534749  ...      -0.227357      -0.538765   \n",
       "50%        -0.052806      -0.093723  ...      -0.028311       0.010025   \n",
       "75%         0.594646       0.452450  ...       0.187179       0.530444   \n",
       "max        15.594995      23.745136  ...      27.202839       8.361985   \n",
       "\n",
       "                 V23            V24            V25            V26  \\\n",
       "count  152285.000000  152285.000000  152285.000000  152285.000000   \n",
       "mean        0.001341      -0.000263       0.000150      -0.000468   \n",
       "std         0.628942       0.605558       0.521585       0.481419   \n",
       "min       -44.807735      -2.822384     -10.295397      -2.068561   \n",
       "25%        -0.161813      -0.354871      -0.316115      -0.326837   \n",
       "50%        -0.010913       0.040747       0.017111      -0.051857   \n",
       "75%         0.147779       0.439801       0.351508       0.240716   \n",
       "max        20.803344       4.022866       5.852484       3.517346   \n",
       "\n",
       "                 V27            V28         Amount          Class  \n",
       "count  152285.000000  152285.000000  152285.000000  152285.000000  \n",
       "mean        0.000529       0.000128      87.535348       0.001760  \n",
       "std         0.401711       0.321064     237.597113       0.041914  \n",
       "min       -22.565679     -11.710896       0.000000       0.000000  \n",
       "25%        -0.070460      -0.053049       5.560000       0.000000  \n",
       "50%         0.001490       0.011465      22.000000       0.000000  \n",
       "75%         0.091538       0.078485      77.700000       0.000000  \n",
       "max        12.152401      16.129609   12910.930000       1.000000  \n",
       "\n",
       "[8 rows x 30 columns]"
      ]
     },
     "execution_count": 32,
     "metadata": {},
     "output_type": "execute_result"
    }
   ],
   "source": [
    "col_names_list = df.columns\n",
    "df[col_names_list].describe(include = 'all')"
   ]
  },
  {
   "cell_type": "markdown",
   "metadata": {},
   "source": [
    "## Statistical model"
   ]
  },
  {
   "cell_type": "markdown",
   "metadata": {},
   "source": [
    "### Splitting the data to train & test"
   ]
  },
  {
   "cell_type": "code",
   "execution_count": 33,
   "metadata": {},
   "outputs": [],
   "source": [
    "# shuffle the data\n",
    "df = shuffle(df)\n",
    "num_samples = df.shape[0]\n",
    "\n",
    "# 80% train, 20% test\n",
    "train_frac = int(num_samples * 0.8)\n",
    "train, test = df.iloc[:train_frac, :], df.iloc[train_frac:, :]"
   ]
  },
  {
   "cell_type": "code",
   "execution_count": 34,
   "metadata": {},
   "outputs": [],
   "source": [
    "(_, train_zero), (_, train_one) = train.groupby('Class')"
   ]
  },
  {
   "cell_type": "markdown",
   "metadata": {},
   "source": [
    "### Class 0 (not fraud) distribution:"
   ]
  },
  {
   "cell_type": "code",
   "execution_count": 35,
   "metadata": {},
   "outputs": [
    {
     "data": {
      "text/html": [
       "<div>\n",
       "<style scoped>\n",
       "    .dataframe tbody tr th:only-of-type {\n",
       "        vertical-align: middle;\n",
       "    }\n",
       "\n",
       "    .dataframe tbody tr th {\n",
       "        vertical-align: top;\n",
       "    }\n",
       "\n",
       "    .dataframe thead th {\n",
       "        text-align: right;\n",
       "    }\n",
       "</style>\n",
       "<table border=\"1\" class=\"dataframe\">\n",
       "  <thead>\n",
       "    <tr style=\"text-align: right;\">\n",
       "      <th></th>\n",
       "      <th>V1</th>\n",
       "      <th>V2</th>\n",
       "      <th>V3</th>\n",
       "      <th>V4</th>\n",
       "      <th>V5</th>\n",
       "      <th>V6</th>\n",
       "      <th>V7</th>\n",
       "      <th>V8</th>\n",
       "      <th>V9</th>\n",
       "      <th>V10</th>\n",
       "      <th>...</th>\n",
       "      <th>V21</th>\n",
       "      <th>V22</th>\n",
       "      <th>V23</th>\n",
       "      <th>V24</th>\n",
       "      <th>V25</th>\n",
       "      <th>V26</th>\n",
       "      <th>V27</th>\n",
       "      <th>V28</th>\n",
       "      <th>Amount</th>\n",
       "      <th>Class</th>\n",
       "    </tr>\n",
       "  </thead>\n",
       "  <tbody>\n",
       "    <tr>\n",
       "      <th>count</th>\n",
       "      <td>121616.000000</td>\n",
       "      <td>121616.000000</td>\n",
       "      <td>121616.000000</td>\n",
       "      <td>121616.000000</td>\n",
       "      <td>121616.000000</td>\n",
       "      <td>121616.000000</td>\n",
       "      <td>121616.000000</td>\n",
       "      <td>121616.000000</td>\n",
       "      <td>121616.000000</td>\n",
       "      <td>121616.000000</td>\n",
       "      <td>...</td>\n",
       "      <td>121616.000000</td>\n",
       "      <td>121616.000000</td>\n",
       "      <td>121616.000000</td>\n",
       "      <td>121616.000000</td>\n",
       "      <td>121616.000000</td>\n",
       "      <td>121616.000000</td>\n",
       "      <td>121616.000000</td>\n",
       "      <td>121616.000000</td>\n",
       "      <td>121616.000000</td>\n",
       "      <td>121616.0</td>\n",
       "    </tr>\n",
       "    <tr>\n",
       "      <th>mean</th>\n",
       "      <td>0.005161</td>\n",
       "      <td>0.000284</td>\n",
       "      <td>0.015587</td>\n",
       "      <td>-0.003917</td>\n",
       "      <td>0.009664</td>\n",
       "      <td>-0.000774</td>\n",
       "      <td>0.012027</td>\n",
       "      <td>0.000526</td>\n",
       "      <td>0.001844</td>\n",
       "      <td>0.008307</td>\n",
       "      <td>...</td>\n",
       "      <td>-0.001005</td>\n",
       "      <td>0.003002</td>\n",
       "      <td>0.001981</td>\n",
       "      <td>0.000268</td>\n",
       "      <td>0.000352</td>\n",
       "      <td>-0.001267</td>\n",
       "      <td>-0.000941</td>\n",
       "      <td>0.000456</td>\n",
       "      <td>87.335427</td>\n",
       "      <td>0.0</td>\n",
       "    </tr>\n",
       "    <tr>\n",
       "      <th>std</th>\n",
       "      <td>1.927544</td>\n",
       "      <td>1.622734</td>\n",
       "      <td>1.460001</td>\n",
       "      <td>1.398374</td>\n",
       "      <td>1.330945</td>\n",
       "      <td>1.318491</td>\n",
       "      <td>1.149657</td>\n",
       "      <td>1.160369</td>\n",
       "      <td>1.090397</td>\n",
       "      <td>1.041001</td>\n",
       "      <td>...</td>\n",
       "      <td>0.716464</td>\n",
       "      <td>0.723863</td>\n",
       "      <td>0.622963</td>\n",
       "      <td>0.605017</td>\n",
       "      <td>0.520426</td>\n",
       "      <td>0.481274</td>\n",
       "      <td>0.400767</td>\n",
       "      <td>0.324441</td>\n",
       "      <td>237.049414</td>\n",
       "      <td>0.0</td>\n",
       "    </tr>\n",
       "    <tr>\n",
       "      <th>min</th>\n",
       "      <td>-46.855047</td>\n",
       "      <td>-45.607973</td>\n",
       "      <td>-33.680984</td>\n",
       "      <td>-5.683171</td>\n",
       "      <td>-35.182120</td>\n",
       "      <td>-20.367836</td>\n",
       "      <td>-24.419483</td>\n",
       "      <td>-50.943369</td>\n",
       "      <td>-6.105803</td>\n",
       "      <td>-11.152891</td>\n",
       "      <td>...</td>\n",
       "      <td>-22.889347</td>\n",
       "      <td>-8.454599</td>\n",
       "      <td>-36.666000</td>\n",
       "      <td>-2.822384</td>\n",
       "      <td>-6.712624</td>\n",
       "      <td>-2.068561</td>\n",
       "      <td>-22.565679</td>\n",
       "      <td>-11.710896</td>\n",
       "      <td>0.000000</td>\n",
       "      <td>0.0</td>\n",
       "    </tr>\n",
       "    <tr>\n",
       "      <th>25%</th>\n",
       "      <td>-0.916669</td>\n",
       "      <td>-0.595672</td>\n",
       "      <td>-0.880688</td>\n",
       "      <td>-0.843307</td>\n",
       "      <td>-0.684154</td>\n",
       "      <td>-0.770706</td>\n",
       "      <td>-0.545683</td>\n",
       "      <td>-0.209295</td>\n",
       "      <td>-0.644249</td>\n",
       "      <td>-0.533660</td>\n",
       "      <td>...</td>\n",
       "      <td>-0.227103</td>\n",
       "      <td>-0.537810</td>\n",
       "      <td>-0.161907</td>\n",
       "      <td>-0.353514</td>\n",
       "      <td>-0.315101</td>\n",
       "      <td>-0.326947</td>\n",
       "      <td>-0.070378</td>\n",
       "      <td>-0.053101</td>\n",
       "      <td>5.577500</td>\n",
       "      <td>0.0</td>\n",
       "    </tr>\n",
       "    <tr>\n",
       "      <th>50%</th>\n",
       "      <td>0.010599</td>\n",
       "      <td>0.066815</td>\n",
       "      <td>0.185037</td>\n",
       "      <td>-0.020225</td>\n",
       "      <td>-0.049921</td>\n",
       "      <td>-0.274322</td>\n",
       "      <td>0.045790</td>\n",
       "      <td>0.022647</td>\n",
       "      <td>-0.053077</td>\n",
       "      <td>-0.093262</td>\n",
       "      <td>...</td>\n",
       "      <td>-0.028150</td>\n",
       "      <td>0.010858</td>\n",
       "      <td>-0.010929</td>\n",
       "      <td>0.041082</td>\n",
       "      <td>0.017475</td>\n",
       "      <td>-0.052864</td>\n",
       "      <td>0.001342</td>\n",
       "      <td>0.011365</td>\n",
       "      <td>21.990000</td>\n",
       "      <td>0.0</td>\n",
       "    </tr>\n",
       "    <tr>\n",
       "      <th>75%</th>\n",
       "      <td>1.314305</td>\n",
       "      <td>0.805278</td>\n",
       "      <td>1.033979</td>\n",
       "      <td>0.740843</td>\n",
       "      <td>0.614687</td>\n",
       "      <td>0.395465</td>\n",
       "      <td>0.570941</td>\n",
       "      <td>0.326916</td>\n",
       "      <td>0.593543</td>\n",
       "      <td>0.455401</td>\n",
       "      <td>...</td>\n",
       "      <td>0.186407</td>\n",
       "      <td>0.529612</td>\n",
       "      <td>0.147199</td>\n",
       "      <td>0.439535</td>\n",
       "      <td>0.351316</td>\n",
       "      <td>0.238541</td>\n",
       "      <td>0.090874</td>\n",
       "      <td>0.078208</td>\n",
       "      <td>77.572500</td>\n",
       "      <td>0.0</td>\n",
       "    </tr>\n",
       "    <tr>\n",
       "      <th>max</th>\n",
       "      <td>2.454930</td>\n",
       "      <td>18.902453</td>\n",
       "      <td>9.382558</td>\n",
       "      <td>13.143668</td>\n",
       "      <td>29.162172</td>\n",
       "      <td>21.550496</td>\n",
       "      <td>36.877368</td>\n",
       "      <td>18.282168</td>\n",
       "      <td>15.594995</td>\n",
       "      <td>23.745136</td>\n",
       "      <td>...</td>\n",
       "      <td>22.580675</td>\n",
       "      <td>7.357255</td>\n",
       "      <td>20.803344</td>\n",
       "      <td>4.016342</td>\n",
       "      <td>5.852484</td>\n",
       "      <td>3.517346</td>\n",
       "      <td>12.152401</td>\n",
       "      <td>16.129609</td>\n",
       "      <td>12910.930000</td>\n",
       "      <td>0.0</td>\n",
       "    </tr>\n",
       "  </tbody>\n",
       "</table>\n",
       "<p>8 rows × 30 columns</p>\n",
       "</div>"
      ],
      "text/plain": [
       "                  V1             V2             V3             V4  \\\n",
       "count  121616.000000  121616.000000  121616.000000  121616.000000   \n",
       "mean        0.005161       0.000284       0.015587      -0.003917   \n",
       "std         1.927544       1.622734       1.460001       1.398374   \n",
       "min       -46.855047     -45.607973     -33.680984      -5.683171   \n",
       "25%        -0.916669      -0.595672      -0.880688      -0.843307   \n",
       "50%         0.010599       0.066815       0.185037      -0.020225   \n",
       "75%         1.314305       0.805278       1.033979       0.740843   \n",
       "max         2.454930      18.902453       9.382558      13.143668   \n",
       "\n",
       "                  V5             V6             V7             V8  \\\n",
       "count  121616.000000  121616.000000  121616.000000  121616.000000   \n",
       "mean        0.009664      -0.000774       0.012027       0.000526   \n",
       "std         1.330945       1.318491       1.149657       1.160369   \n",
       "min       -35.182120     -20.367836     -24.419483     -50.943369   \n",
       "25%        -0.684154      -0.770706      -0.545683      -0.209295   \n",
       "50%        -0.049921      -0.274322       0.045790       0.022647   \n",
       "75%         0.614687       0.395465       0.570941       0.326916   \n",
       "max        29.162172      21.550496      36.877368      18.282168   \n",
       "\n",
       "                  V9            V10  ...            V21            V22  \\\n",
       "count  121616.000000  121616.000000  ...  121616.000000  121616.000000   \n",
       "mean        0.001844       0.008307  ...      -0.001005       0.003002   \n",
       "std         1.090397       1.041001  ...       0.716464       0.723863   \n",
       "min        -6.105803     -11.152891  ...     -22.889347      -8.454599   \n",
       "25%        -0.644249      -0.533660  ...      -0.227103      -0.537810   \n",
       "50%        -0.053077      -0.093262  ...      -0.028150       0.010858   \n",
       "75%         0.593543       0.455401  ...       0.186407       0.529612   \n",
       "max        15.594995      23.745136  ...      22.580675       7.357255   \n",
       "\n",
       "                 V23            V24            V25            V26  \\\n",
       "count  121616.000000  121616.000000  121616.000000  121616.000000   \n",
       "mean        0.001981       0.000268       0.000352      -0.001267   \n",
       "std         0.622963       0.605017       0.520426       0.481274   \n",
       "min       -36.666000      -2.822384      -6.712624      -2.068561   \n",
       "25%        -0.161907      -0.353514      -0.315101      -0.326947   \n",
       "50%        -0.010929       0.041082       0.017475      -0.052864   \n",
       "75%         0.147199       0.439535       0.351316       0.238541   \n",
       "max        20.803344       4.016342       5.852484       3.517346   \n",
       "\n",
       "                 V27            V28         Amount     Class  \n",
       "count  121616.000000  121616.000000  121616.000000  121616.0  \n",
       "mean       -0.000941       0.000456      87.335427       0.0  \n",
       "std         0.400767       0.324441     237.049414       0.0  \n",
       "min       -22.565679     -11.710896       0.000000       0.0  \n",
       "25%        -0.070378      -0.053101       5.577500       0.0  \n",
       "50%         0.001342       0.011365      21.990000       0.0  \n",
       "75%         0.090874       0.078208      77.572500       0.0  \n",
       "max        12.152401      16.129609   12910.930000       0.0  \n",
       "\n",
       "[8 rows x 30 columns]"
      ]
     },
     "execution_count": 35,
     "metadata": {},
     "output_type": "execute_result"
    }
   ],
   "source": [
    "label_0_dist = train_zero.describe()\n",
    "label_0_dist"
   ]
  },
  {
   "cell_type": "markdown",
   "metadata": {},
   "source": [
    "### Class 1 (fraud) distribution:"
   ]
  },
  {
   "cell_type": "code",
   "execution_count": 36,
   "metadata": {},
   "outputs": [
    {
     "data": {
      "text/html": [
       "<div>\n",
       "<style scoped>\n",
       "    .dataframe tbody tr th:only-of-type {\n",
       "        vertical-align: middle;\n",
       "    }\n",
       "\n",
       "    .dataframe tbody tr th {\n",
       "        vertical-align: top;\n",
       "    }\n",
       "\n",
       "    .dataframe thead th {\n",
       "        text-align: right;\n",
       "    }\n",
       "</style>\n",
       "<table border=\"1\" class=\"dataframe\">\n",
       "  <thead>\n",
       "    <tr style=\"text-align: right;\">\n",
       "      <th></th>\n",
       "      <th>V1</th>\n",
       "      <th>V2</th>\n",
       "      <th>V3</th>\n",
       "      <th>V4</th>\n",
       "      <th>V5</th>\n",
       "      <th>V6</th>\n",
       "      <th>V7</th>\n",
       "      <th>V8</th>\n",
       "      <th>V9</th>\n",
       "      <th>V10</th>\n",
       "      <th>...</th>\n",
       "      <th>V21</th>\n",
       "      <th>V22</th>\n",
       "      <th>V23</th>\n",
       "      <th>V24</th>\n",
       "      <th>V25</th>\n",
       "      <th>V26</th>\n",
       "      <th>V27</th>\n",
       "      <th>V28</th>\n",
       "      <th>Amount</th>\n",
       "      <th>Class</th>\n",
       "    </tr>\n",
       "  </thead>\n",
       "  <tbody>\n",
       "    <tr>\n",
       "      <th>count</th>\n",
       "      <td>212.000000</td>\n",
       "      <td>212.000000</td>\n",
       "      <td>212.000000</td>\n",
       "      <td>212.000000</td>\n",
       "      <td>212.000000</td>\n",
       "      <td>212.000000</td>\n",
       "      <td>212.000000</td>\n",
       "      <td>212.000000</td>\n",
       "      <td>212.000000</td>\n",
       "      <td>212.000000</td>\n",
       "      <td>...</td>\n",
       "      <td>212.000000</td>\n",
       "      <td>212.000000</td>\n",
       "      <td>212.000000</td>\n",
       "      <td>212.000000</td>\n",
       "      <td>212.000000</td>\n",
       "      <td>212.000000</td>\n",
       "      <td>212.000000</td>\n",
       "      <td>212.000000</td>\n",
       "      <td>212.000000</td>\n",
       "      <td>212.0</td>\n",
       "    </tr>\n",
       "    <tr>\n",
       "      <th>mean</th>\n",
       "      <td>-4.787576</td>\n",
       "      <td>3.645693</td>\n",
       "      <td>-6.971530</td>\n",
       "      <td>4.604513</td>\n",
       "      <td>-2.960444</td>\n",
       "      <td>-1.320098</td>\n",
       "      <td>-5.627483</td>\n",
       "      <td>-0.173757</td>\n",
       "      <td>-2.709766</td>\n",
       "      <td>-5.727209</td>\n",
       "      <td>...</td>\n",
       "      <td>0.781375</td>\n",
       "      <td>-0.033766</td>\n",
       "      <td>0.015662</td>\n",
       "      <td>-0.146485</td>\n",
       "      <td>0.009913</td>\n",
       "      <td>0.033507</td>\n",
       "      <td>0.153921</td>\n",
       "      <td>0.064677</td>\n",
       "      <td>130.485519</td>\n",
       "      <td>1.0</td>\n",
       "    </tr>\n",
       "    <tr>\n",
       "      <th>std</th>\n",
       "      <td>6.732753</td>\n",
       "      <td>4.582027</td>\n",
       "      <td>7.048063</td>\n",
       "      <td>2.955195</td>\n",
       "      <td>5.391839</td>\n",
       "      <td>2.041202</td>\n",
       "      <td>7.763034</td>\n",
       "      <td>7.995532</td>\n",
       "      <td>2.641220</td>\n",
       "      <td>5.238381</td>\n",
       "      <td>...</td>\n",
       "      <td>4.841540</td>\n",
       "      <td>1.780905</td>\n",
       "      <td>1.661504</td>\n",
       "      <td>0.510059</td>\n",
       "      <td>0.743301</td>\n",
       "      <td>0.455721</td>\n",
       "      <td>1.440958</td>\n",
       "      <td>0.534799</td>\n",
       "      <td>271.380725</td>\n",
       "      <td>0.0</td>\n",
       "    </tr>\n",
       "    <tr>\n",
       "      <th>min</th>\n",
       "      <td>-28.709229</td>\n",
       "      <td>-8.402154</td>\n",
       "      <td>-30.177317</td>\n",
       "      <td>-1.313275</td>\n",
       "      <td>-20.786000</td>\n",
       "      <td>-5.773192</td>\n",
       "      <td>-43.557242</td>\n",
       "      <td>-41.044261</td>\n",
       "      <td>-13.434066</td>\n",
       "      <td>-24.588262</td>\n",
       "      <td>...</td>\n",
       "      <td>-22.797604</td>\n",
       "      <td>-8.887017</td>\n",
       "      <td>-15.981649</td>\n",
       "      <td>-1.632653</td>\n",
       "      <td>-3.536716</td>\n",
       "      <td>-1.152671</td>\n",
       "      <td>-7.263482</td>\n",
       "      <td>-1.796363</td>\n",
       "      <td>0.000000</td>\n",
       "      <td>1.0</td>\n",
       "    </tr>\n",
       "    <tr>\n",
       "      <th>25%</th>\n",
       "      <td>-5.982945</td>\n",
       "      <td>1.131445</td>\n",
       "      <td>-9.451703</td>\n",
       "      <td>2.333844</td>\n",
       "      <td>-4.762439</td>\n",
       "      <td>-2.453379</td>\n",
       "      <td>-8.151490</td>\n",
       "      <td>-0.290129</td>\n",
       "      <td>-3.961676</td>\n",
       "      <td>-7.628187</td>\n",
       "      <td>...</td>\n",
       "      <td>-0.010842</td>\n",
       "      <td>-0.516574</td>\n",
       "      <td>-0.330472</td>\n",
       "      <td>-0.468433</td>\n",
       "      <td>-0.303762</td>\n",
       "      <td>-0.279688</td>\n",
       "      <td>-0.019328</td>\n",
       "      <td>-0.130715</td>\n",
       "      <td>1.000000</td>\n",
       "      <td>1.0</td>\n",
       "    </tr>\n",
       "    <tr>\n",
       "      <th>50%</th>\n",
       "      <td>-2.330783</td>\n",
       "      <td>2.936182</td>\n",
       "      <td>-5.078734</td>\n",
       "      <td>4.306272</td>\n",
       "      <td>-1.340725</td>\n",
       "      <td>-1.423506</td>\n",
       "      <td>-3.048985</td>\n",
       "      <td>0.518277</td>\n",
       "      <td>-2.294228</td>\n",
       "      <td>-4.493399</td>\n",
       "      <td>...</td>\n",
       "      <td>0.657190</td>\n",
       "      <td>-0.070710</td>\n",
       "      <td>-0.061527</td>\n",
       "      <td>-0.157380</td>\n",
       "      <td>0.042695</td>\n",
       "      <td>-0.021723</td>\n",
       "      <td>0.386073</td>\n",
       "      <td>0.130957</td>\n",
       "      <td>7.785000</td>\n",
       "      <td>1.0</td>\n",
       "    </tr>\n",
       "    <tr>\n",
       "      <th>75%</th>\n",
       "      <td>-0.643006</td>\n",
       "      <td>5.244990</td>\n",
       "      <td>-2.095795</td>\n",
       "      <td>6.459129</td>\n",
       "      <td>0.328965</td>\n",
       "      <td>-0.389844</td>\n",
       "      <td>-0.728570</td>\n",
       "      <td>1.764879</td>\n",
       "      <td>-0.761342</td>\n",
       "      <td>-2.235067</td>\n",
       "      <td>...</td>\n",
       "      <td>1.244611</td>\n",
       "      <td>0.585283</td>\n",
       "      <td>0.318421</td>\n",
       "      <td>0.254836</td>\n",
       "      <td>0.444596</td>\n",
       "      <td>0.397270</td>\n",
       "      <td>0.799780</td>\n",
       "      <td>0.381152</td>\n",
       "      <td>120.475000</td>\n",
       "      <td>1.0</td>\n",
       "    </tr>\n",
       "    <tr>\n",
       "      <th>max</th>\n",
       "      <td>1.934946</td>\n",
       "      <td>22.057729</td>\n",
       "      <td>2.250210</td>\n",
       "      <td>11.906170</td>\n",
       "      <td>11.095089</td>\n",
       "      <td>6.474115</td>\n",
       "      <td>5.431271</td>\n",
       "      <td>18.748872</td>\n",
       "      <td>1.992110</td>\n",
       "      <td>2.688670</td>\n",
       "      <td>...</td>\n",
       "      <td>27.202839</td>\n",
       "      <td>8.361985</td>\n",
       "      <td>5.466230</td>\n",
       "      <td>0.901260</td>\n",
       "      <td>2.051687</td>\n",
       "      <td>1.246604</td>\n",
       "      <td>2.706566</td>\n",
       "      <td>1.779364</td>\n",
       "      <td>2125.870000</td>\n",
       "      <td>1.0</td>\n",
       "    </tr>\n",
       "  </tbody>\n",
       "</table>\n",
       "<p>8 rows × 30 columns</p>\n",
       "</div>"
      ],
      "text/plain": [
       "               V1          V2          V3          V4          V5          V6  \\\n",
       "count  212.000000  212.000000  212.000000  212.000000  212.000000  212.000000   \n",
       "mean    -4.787576    3.645693   -6.971530    4.604513   -2.960444   -1.320098   \n",
       "std      6.732753    4.582027    7.048063    2.955195    5.391839    2.041202   \n",
       "min    -28.709229   -8.402154  -30.177317   -1.313275  -20.786000   -5.773192   \n",
       "25%     -5.982945    1.131445   -9.451703    2.333844   -4.762439   -2.453379   \n",
       "50%     -2.330783    2.936182   -5.078734    4.306272   -1.340725   -1.423506   \n",
       "75%     -0.643006    5.244990   -2.095795    6.459129    0.328965   -0.389844   \n",
       "max      1.934946   22.057729    2.250210   11.906170   11.095089    6.474115   \n",
       "\n",
       "               V7          V8          V9         V10  ...         V21  \\\n",
       "count  212.000000  212.000000  212.000000  212.000000  ...  212.000000   \n",
       "mean    -5.627483   -0.173757   -2.709766   -5.727209  ...    0.781375   \n",
       "std      7.763034    7.995532    2.641220    5.238381  ...    4.841540   \n",
       "min    -43.557242  -41.044261  -13.434066  -24.588262  ...  -22.797604   \n",
       "25%     -8.151490   -0.290129   -3.961676   -7.628187  ...   -0.010842   \n",
       "50%     -3.048985    0.518277   -2.294228   -4.493399  ...    0.657190   \n",
       "75%     -0.728570    1.764879   -0.761342   -2.235067  ...    1.244611   \n",
       "max      5.431271   18.748872    1.992110    2.688670  ...   27.202839   \n",
       "\n",
       "              V22         V23         V24         V25         V26         V27  \\\n",
       "count  212.000000  212.000000  212.000000  212.000000  212.000000  212.000000   \n",
       "mean    -0.033766    0.015662   -0.146485    0.009913    0.033507    0.153921   \n",
       "std      1.780905    1.661504    0.510059    0.743301    0.455721    1.440958   \n",
       "min     -8.887017  -15.981649   -1.632653   -3.536716   -1.152671   -7.263482   \n",
       "25%     -0.516574   -0.330472   -0.468433   -0.303762   -0.279688   -0.019328   \n",
       "50%     -0.070710   -0.061527   -0.157380    0.042695   -0.021723    0.386073   \n",
       "75%      0.585283    0.318421    0.254836    0.444596    0.397270    0.799780   \n",
       "max      8.361985    5.466230    0.901260    2.051687    1.246604    2.706566   \n",
       "\n",
       "              V28       Amount  Class  \n",
       "count  212.000000   212.000000  212.0  \n",
       "mean     0.064677   130.485519    1.0  \n",
       "std      0.534799   271.380725    0.0  \n",
       "min     -1.796363     0.000000    1.0  \n",
       "25%     -0.130715     1.000000    1.0  \n",
       "50%      0.130957     7.785000    1.0  \n",
       "75%      0.381152   120.475000    1.0  \n",
       "max      1.779364  2125.870000    1.0  \n",
       "\n",
       "[8 rows x 30 columns]"
      ]
     },
     "execution_count": 36,
     "metadata": {},
     "output_type": "execute_result"
    }
   ],
   "source": [
    "label_1_dist = train_one.describe()\n",
    "label_1_dist"
   ]
  },
  {
   "cell_type": "markdown",
   "metadata": {},
   "source": [
    "I assume that the data is distributed in a multivariate normal distribution. \n",
    "The data belonging to class 0 are normally distributed with mean and standard deviation \n",
    "and the data belonging to class 1 are normally distributed with different mean and standard deviation."
   ]
  },
  {
   "cell_type": "code",
   "execution_count": 37,
   "metadata": {},
   "outputs": [],
   "source": [
    "# Normal density function\n",
    "def calc_prob(mean, std, value):\n",
    "    mul = 1/(std * np.sqrt(np.pi * 2))\n",
    "    exponent = -(value - mean) ** 2.0 / (2 * std ** 2.0)\n",
    "    return mul * np.exp(exponent)\n",
    "\n",
    "# The classifier takes each value obtained in a test set and checks its probability in a normal density function\n",
    "# with the same mean and standard deviation that belong to the value,\n",
    "# and checks if the value belongs to the normal distribution of the class from which it is actually classified.\n",
    "\n",
    "def predict(entry):\n",
    "    label_0_prob = 1\n",
    "    label_1_prob = 1\n",
    "    for i in range(1, 29):\n",
    "        v_i = 'V' + str(i)\n",
    "        entry_v_i = entry[v_i]\n",
    "        mean_label_0 = label_0_dist.at['mean', v_i]\n",
    "        std_label_0 = label_0_dist.at['std', v_i]\n",
    "        prob_label_0_v_i = calc_prob(mean_label_0, std_label_0, entry_v_i)\n",
    "        label_0_prob *= prob_label_0_v_i\n",
    "        \n",
    "        \n",
    "        mean_label_1 = label_1_dist.at['mean', v_i]\n",
    "        std_label_1 = label_1_dist.at['std', v_i]\n",
    "        prob_label_1_v_i = calc_prob(mean_label_1, std_label_1, entry_v_i)\n",
    "        label_1_prob *= prob_label_1_v_i\n",
    "    return 0 if label_0_prob > label_1_prob else 1\n",
    "\n",
    "real_label = []\n",
    "predicted_label = []\n",
    "for i in range(len(test)):\n",
    "    entry = test.iloc[i, :]\n",
    "    real_label.append(entry['Class'])\n",
    "    predicted_label.append(predict(entry))    "
   ]
  },
  {
   "cell_type": "code",
   "execution_count": 38,
   "metadata": {},
   "outputs": [
    {
     "data": {
      "text/html": [
       "<div>\n",
       "<style scoped>\n",
       "    .dataframe tbody tr th:only-of-type {\n",
       "        vertical-align: middle;\n",
       "    }\n",
       "\n",
       "    .dataframe tbody tr th {\n",
       "        vertical-align: top;\n",
       "    }\n",
       "\n",
       "    .dataframe thead th {\n",
       "        text-align: right;\n",
       "    }\n",
       "</style>\n",
       "<table border=\"1\" class=\"dataframe\">\n",
       "  <thead>\n",
       "    <tr style=\"text-align: right;\">\n",
       "      <th></th>\n",
       "      <th>Accuracy</th>\n",
       "      <th>AUC &amp; ROC</th>\n",
       "    </tr>\n",
       "  </thead>\n",
       "  <tbody>\n",
       "    <tr>\n",
       "      <th>Statistical Model</th>\n",
       "      <td>0.973</td>\n",
       "      <td>0.897</td>\n",
       "    </tr>\n",
       "  </tbody>\n",
       "</table>\n",
       "</div>"
      ],
      "text/plain": [
       "                   Accuracy  AUC & ROC\n",
       "Statistical Model     0.973      0.897"
      ]
     },
     "execution_count": 38,
     "metadata": {},
     "output_type": "execute_result"
    },
    {
     "data": {
      "image/png": "[encoded data removed]",
      "text/plain": [
       "<Figure size 432x288 with 2 Axes>"
      ]
     },
     "metadata": {
      "needs_background": "light"
     },
     "output_type": "display_data"
    }
   ],
   "source": [
    "cf_matrix = confusion_matrix(real_label, predicted_label)\n",
    "group_names = ['True Neg','False Pos','False Neg','True Pos']\n",
    "group_counts = ['{0:0.0f}'.format(value) for value in\n",
    "                cf_matrix.flatten()]\n",
    "group_percentages = ['{0:.2%}'.format(value) for value in\n",
    "                     cf_matrix.flatten()/np.sum(cf_matrix)]\n",
    "labels = [f'{v1}\\n{v2}\\n{v3}' for v1, v2, v3 in\n",
    "          zip(group_names,group_counts,group_percentages)]\n",
    "labels = np.asarray(labels).reshape(2,2)\n",
    "sns.heatmap(cf_matrix, annot=labels, fmt='', cmap='Blues')\n",
    "stat_mod_accuracy = round(accuracy_score(real_label, predicted_label), 3)\n",
    "stat_mod_ROC = round(sklearn.metrics.roc_auc_score(real_label, predicted_label),3)\n",
    "pd.DataFrame([stat_mod_accuracy, stat_mod_ROC], index=['Accuracy', 'AUC & ROC'], columns=['Statistical Model']).T"
   ]
  },
  {
   "cell_type": "markdown",
   "metadata": {},
   "source": [
    "The results show a very high accuracy (97%) of the model and a high AUC & ROC score (89%), it seems that the classification is close to reality."
   ]
  },
  {
   "cell_type": "markdown",
   "metadata": {},
   "source": [
    "## Undersampling and oversampling"
   ]
  },
  {
   "cell_type": "markdown",
   "metadata": {},
   "source": [
    "Since the data is unbalanced, I wanted to examine how the accuracy metrics change when performing undersampling \n",
    "and oversampling of the data. \n",
    "\n",
    "So I ran each of the following algorithms on 3 data types:\n",
    "1. The original data\n",
    "2. Undersampling data\n",
    "3. Oversampling data"
   ]
  },
  {
   "cell_type": "code",
   "execution_count": 39,
   "metadata": {},
   "outputs": [
    {
     "name": "stdout",
     "output_type": "stream",
     "text": [
      "Total class of 1 and 0: 0    268\n",
      "1    268\n",
      "Name: Class, dtype: int64\n"
     ]
    }
   ],
   "source": [
    "class_count_0, class_count_1 = df['Class'].value_counts()\n",
    "class_0 = df[df['Class'] == 0]\n",
    "class_1 = df[df['Class'] == 1]\n",
    "\n",
    "# under-sampling:\n",
    "class_0_under = class_0.sample(class_count_1)\n",
    "test_under = pd.concat([class_0_under, class_1], axis=0)\n",
    "print(\"Total class of 1 and 0:\" , test_under['Class'].value_counts())"
   ]
  },
  {
   "cell_type": "code",
   "execution_count": 40,
   "metadata": {},
   "outputs": [
    {
     "name": "stdout",
     "output_type": "stream",
     "text": [
      "Total class of 1 and 0: 0    152017\n",
      "1    152017\n",
      "Name: Class, dtype: int64\n"
     ]
    }
   ],
   "source": [
    "# over-sampling:\n",
    "class_1_over = class_1.sample(class_count_0, replace=True)\n",
    "test_over = pd.concat([class_1_over, class_0], axis=0)\n",
    "\n",
    "print(\"Total class of 1 and 0:\", test_over['Class'].value_counts())"
   ]
  },
  {
   "cell_type": "code",
   "execution_count": 41,
   "metadata": {},
   "outputs": [],
   "source": [
    "# train & test for undersampling and oversampling\n",
    "X_train_under, X_test_under, y_train_under, y_test_under = train_test_split(test_under[test_under.columns.difference(['Class'])], test_under['Class'], test_size = 0.2)\n",
    "X_train_over, X_test_over, y_train_over, y_test_over = train_test_split(test_over[test_over.columns.difference(['Class'])], test_over['Class'], test_size = 0.2)"
   ]
  },
  {
   "cell_type": "markdown",
   "metadata": {},
   "source": [
    "## Implementing Statistical Learning Algorithms"
   ]
  },
  {
   "cell_type": "markdown",
   "metadata": {},
   "source": [
    "#### Logistic Regression"
   ]
  },
  {
   "cell_type": "code",
   "execution_count": 42,
   "metadata": {},
   "outputs": [],
   "source": [
    "X_train, X_test, y_train, y_test = train_test_split(df[df.columns.difference(['Class'])], df['Class'], test_size = 0.2)"
   ]
  },
  {
   "cell_type": "code",
   "execution_count": 43,
   "metadata": {
    "scrolled": true
   },
   "outputs": [
    {
     "data": {
      "text/html": [
       "<div>\n",
       "<style scoped>\n",
       "    .dataframe tbody tr th:only-of-type {\n",
       "        vertical-align: middle;\n",
       "    }\n",
       "\n",
       "    .dataframe tbody tr th {\n",
       "        vertical-align: top;\n",
       "    }\n",
       "\n",
       "    .dataframe thead th {\n",
       "        text-align: right;\n",
       "    }\n",
       "</style>\n",
       "<table border=\"1\" class=\"dataframe\">\n",
       "  <thead>\n",
       "    <tr style=\"text-align: right;\">\n",
       "      <th></th>\n",
       "      <th>Accuracy</th>\n",
       "      <th>AUC &amp; ROC</th>\n",
       "    </tr>\n",
       "  </thead>\n",
       "  <tbody>\n",
       "    <tr>\n",
       "      <th>Logistic Regression Metrics</th>\n",
       "      <td>0.999</td>\n",
       "      <td>0.818</td>\n",
       "    </tr>\n",
       "  </tbody>\n",
       "</table>\n",
       "</div>"
      ],
      "text/plain": [
       "                             Accuracy  AUC & ROC\n",
       "Logistic Regression Metrics     0.999      0.818"
      ]
     },
     "execution_count": 43,
     "metadata": {},
     "output_type": "execute_result"
    }
   ],
   "source": [
    "param_grid = {'C': [0.001, 0.005, 0.01, 0.05, 0.1, 0.5, 1, 1.25, 1.5]}\n",
    "LR = LogisticRegression(solver='lbfgs', max_iter=10000)\n",
    "LR_cv = GridSearchCV(LR, param_grid, cv = 5)\n",
    "LR_cv.fit(X_train, y_train)\n",
    "\n",
    "y_pred = LR_cv.predict(X_test)\n",
    "\n",
    "\n",
    "LR_accuracy = round(accuracy_score(y_test, y_pred), 3)\n",
    "LR_AUC_ROC = round(sklearn.metrics.roc_auc_score(y_test, y_pred),3)\n",
    "pd.DataFrame([LR_accuracy, LR_AUC_ROC], index=['Accuracy', 'AUC & ROC'], columns=['Logistic Regression Metrics']).T"
   ]
  },
  {
   "cell_type": "code",
   "execution_count": 44,
   "metadata": {},
   "outputs": [
    {
     "data": {
      "text/html": [
       "<div>\n",
       "<style scoped>\n",
       "    .dataframe tbody tr th:only-of-type {\n",
       "        vertical-align: middle;\n",
       "    }\n",
       "\n",
       "    .dataframe tbody tr th {\n",
       "        vertical-align: top;\n",
       "    }\n",
       "\n",
       "    .dataframe thead th {\n",
       "        text-align: right;\n",
       "    }\n",
       "</style>\n",
       "<table border=\"1\" class=\"dataframe\">\n",
       "  <thead>\n",
       "    <tr style=\"text-align: right;\">\n",
       "      <th></th>\n",
       "      <th>C</th>\n",
       "    </tr>\n",
       "  </thead>\n",
       "  <tbody>\n",
       "    <tr>\n",
       "      <th>Selected Parameter</th>\n",
       "      <td>1.25</td>\n",
       "    </tr>\n",
       "  </tbody>\n",
       "</table>\n",
       "</div>"
      ],
      "text/plain": [
       "                       C\n",
       "Selected Parameter  1.25"
      ]
     },
     "execution_count": 44,
     "metadata": {},
     "output_type": "execute_result"
    }
   ],
   "source": [
    "pd.DataFrame.from_dict(LR_cv.best_params_, orient='index', columns=['Selected Parameter']).T"
   ]
  },
  {
   "cell_type": "code",
   "execution_count": 45,
   "metadata": {},
   "outputs": [
    {
     "data": {
      "text/plain": [
       "<AxesSubplot:>"
      ]
     },
     "execution_count": 45,
     "metadata": {},
     "output_type": "execute_result"
    },
    {
     "data": {
      "image/png": "[encoded data removed]",
      "text/plain": [
       "<Figure size 432x288 with 2 Axes>"
      ]
     },
     "metadata": {
      "needs_background": "light"
     },
     "output_type": "display_data"
    }
   ],
   "source": [
    "cf_matrix = confusion_matrix(y_test, y_pred)\n",
    "group_names = ['True Neg','False Pos','False Neg','True Pos']\n",
    "group_counts = ['{0:0.0f}'.format(value) for value in\n",
    "                cf_matrix.flatten()]\n",
    "group_percentages = ['{0:.2%}'.format(value) for value in\n",
    "                     cf_matrix.flatten()/np.sum(cf_matrix)]\n",
    "labels = [f'{v1}\\n{v2}\\n{v3}' for v1, v2, v3 in\n",
    "          zip(group_names,group_counts,group_percentages)]\n",
    "labels = np.asarray(labels).reshape(2,2)\n",
    "sns.heatmap(cf_matrix, annot=labels, fmt='', cmap='Blues')"
   ]
  },
  {
   "cell_type": "markdown",
   "metadata": {},
   "source": [
    "The results of the original data show an accuracy of 99% and an AUC & ROC score of 81%."
   ]
  },
  {
   "cell_type": "markdown",
   "metadata": {},
   "source": [
    "#### Under-sampling:"
   ]
  },
  {
   "cell_type": "code",
   "execution_count": 46,
   "metadata": {},
   "outputs": [
    {
     "data": {
      "text/html": [
       "<div>\n",
       "<style scoped>\n",
       "    .dataframe tbody tr th:only-of-type {\n",
       "        vertical-align: middle;\n",
       "    }\n",
       "\n",
       "    .dataframe tbody tr th {\n",
       "        vertical-align: top;\n",
       "    }\n",
       "\n",
       "    .dataframe thead th {\n",
       "        text-align: right;\n",
       "    }\n",
       "</style>\n",
       "<table border=\"1\" class=\"dataframe\">\n",
       "  <thead>\n",
       "    <tr style=\"text-align: right;\">\n",
       "      <th></th>\n",
       "      <th>Accuracy</th>\n",
       "      <th>AUC &amp; ROC</th>\n",
       "    </tr>\n",
       "  </thead>\n",
       "  <tbody>\n",
       "    <tr>\n",
       "      <th>Logistic Regression Metrics</th>\n",
       "      <td>0.917</td>\n",
       "      <td>0.919</td>\n",
       "    </tr>\n",
       "  </tbody>\n",
       "</table>\n",
       "</div>"
      ],
      "text/plain": [
       "                             Accuracy  AUC & ROC\n",
       "Logistic Regression Metrics     0.917      0.919"
      ]
     },
     "execution_count": 46,
     "metadata": {},
     "output_type": "execute_result"
    }
   ],
   "source": [
    "LR_under = LogisticRegression(solver='lbfgs', max_iter=10000)\n",
    "LR_cv_under = GridSearchCV(LR_under, param_grid, cv = 5)\n",
    "LR_cv_under.fit(X_train_under, y_train_under)\n",
    "y_pred_under = LR_cv_under.predict(X_test_under)\n",
    "\n",
    "LR_under_accuracy = round(accuracy_score(y_test_under, y_pred_under), 3)\n",
    "LR_under_AUC_ROC = round(sklearn.metrics.roc_auc_score(y_test_under, y_pred_under),3)\n",
    "pd.DataFrame([LR_under_accuracy, LR_under_AUC_ROC], index=['Accuracy', 'AUC & ROC'], columns=['Logistic Regression Metrics']).T"
   ]
  },
  {
   "cell_type": "code",
   "execution_count": 47,
   "metadata": {},
   "outputs": [
    {
     "data": {
      "text/html": [
       "<div>\n",
       "<style scoped>\n",
       "    .dataframe tbody tr th:only-of-type {\n",
       "        vertical-align: middle;\n",
       "    }\n",
       "\n",
       "    .dataframe tbody tr th {\n",
       "        vertical-align: top;\n",
       "    }\n",
       "\n",
       "    .dataframe thead th {\n",
       "        text-align: right;\n",
       "    }\n",
       "</style>\n",
       "<table border=\"1\" class=\"dataframe\">\n",
       "  <thead>\n",
       "    <tr style=\"text-align: right;\">\n",
       "      <th></th>\n",
       "      <th>C</th>\n",
       "    </tr>\n",
       "  </thead>\n",
       "  <tbody>\n",
       "    <tr>\n",
       "      <th>Selected Parameter</th>\n",
       "      <td>1.25</td>\n",
       "    </tr>\n",
       "  </tbody>\n",
       "</table>\n",
       "</div>"
      ],
      "text/plain": [
       "                       C\n",
       "Selected Parameter  1.25"
      ]
     },
     "execution_count": 47,
     "metadata": {},
     "output_type": "execute_result"
    }
   ],
   "source": [
    "pd.DataFrame.from_dict(LR_cv_under.best_params_, orient='index', columns=['Selected Parameter']).T"
   ]
  },
  {
   "cell_type": "code",
   "execution_count": 48,
   "metadata": {},
   "outputs": [
    {
     "data": {
      "text/plain": [
       "<AxesSubplot:>"
      ]
     },
     "execution_count": 48,
     "metadata": {},
     "output_type": "execute_result"
    },
    {
     "data": {
      "image/png": "[encoded data removed]",
      "text/plain": [
       "<Figure size 432x288 with 2 Axes>"
      ]
     },
     "metadata": {
      "needs_background": "light"
     },
     "output_type": "display_data"
    }
   ],
   "source": [
    "cf_matrix = confusion_matrix(y_test_under, y_pred_under)\n",
    "group_names = ['True Neg','False Pos','False Neg','True Pos']\n",
    "group_counts = ['{0:0.0f}'.format(value) for value in\n",
    "                cf_matrix.flatten()]\n",
    "group_percentages = ['{0:.2%}'.format(value) for value in\n",
    "                     cf_matrix.flatten()/np.sum(cf_matrix)]\n",
    "labels = [f'{v1}\\n{v2}\\n{v3}' for v1, v2, v3 in\n",
    "          zip(group_names,group_counts,group_percentages)]\n",
    "labels = np.asarray(labels).reshape(2,2)\n",
    "sns.heatmap(cf_matrix, annot=labels, fmt='', cmap='Blues')\n"
   ]
  },
  {
   "cell_type": "markdown",
   "metadata": {},
   "source": [
    "The results of the under-sampling data show an accuracy of 91% and an AUC & ROC score of 91%."
   ]
  },
  {
   "cell_type": "markdown",
   "metadata": {},
   "source": [
    "#### Over-sampling:"
   ]
  },
  {
   "cell_type": "code",
   "execution_count": 50,
   "metadata": {},
   "outputs": [
    {
     "data": {
      "text/html": [
       "<div>\n",
       "<style scoped>\n",
       "    .dataframe tbody tr th:only-of-type {\n",
       "        vertical-align: middle;\n",
       "    }\n",
       "\n",
       "    .dataframe tbody tr th {\n",
       "        vertical-align: top;\n",
       "    }\n",
       "\n",
       "    .dataframe thead th {\n",
       "        text-align: right;\n",
       "    }\n",
       "</style>\n",
       "<table border=\"1\" class=\"dataframe\">\n",
       "  <thead>\n",
       "    <tr style=\"text-align: right;\">\n",
       "      <th></th>\n",
       "      <th>Accuracy</th>\n",
       "      <th>AUC &amp; ROC</th>\n",
       "    </tr>\n",
       "  </thead>\n",
       "  <tbody>\n",
       "    <tr>\n",
       "      <th>Logistic Regression Metrics</th>\n",
       "      <td>0.943</td>\n",
       "      <td>0.943</td>\n",
       "    </tr>\n",
       "  </tbody>\n",
       "</table>\n",
       "</div>"
      ],
      "text/plain": [
       "                             Accuracy  AUC & ROC\n",
       "Logistic Regression Metrics     0.943      0.943"
      ]
     },
     "execution_count": 50,
     "metadata": {},
     "output_type": "execute_result"
    }
   ],
   "source": [
    "LR_over = LogisticRegression(solver='lbfgs', max_iter=10000)\n",
    "LR_cv_over = GridSearchCV(LR_over, param_grid, cv = 5)\n",
    "LR_cv_over.fit(X_train_over, y_train_over)\n",
    "y_pred_over = LR_cv_over.predict(X_test_over)\n",
    "\n",
    "LR_over_accuracy = round(accuracy_score(y_test_over, y_pred_over), 3)\n",
    "LR_over_AUC_ROC = round(sklearn.metrics.roc_auc_score(y_test_over, y_pred_over),3)\n",
    "pd.DataFrame([LR_over_accuracy, LR_over_AUC_ROC], index=['Accuracy', 'AUC & ROC'], columns=['Logistic Regression Metrics']).T"
   ]
  },
  {
   "cell_type": "code",
   "execution_count": 51,
   "metadata": {},
   "outputs": [
    {
     "data": {
      "text/html": [
       "<div>\n",
       "<style scoped>\n",
       "    .dataframe tbody tr th:only-of-type {\n",
       "        vertical-align: middle;\n",
       "    }\n",
       "\n",
       "    .dataframe tbody tr th {\n",
       "        vertical-align: top;\n",
       "    }\n",
       "\n",
       "    .dataframe thead th {\n",
       "        text-align: right;\n",
       "    }\n",
       "</style>\n",
       "<table border=\"1\" class=\"dataframe\">\n",
       "  <thead>\n",
       "    <tr style=\"text-align: right;\">\n",
       "      <th></th>\n",
       "      <th>C</th>\n",
       "    </tr>\n",
       "  </thead>\n",
       "  <tbody>\n",
       "    <tr>\n",
       "      <th>Selected Parameter</th>\n",
       "      <td>0.05</td>\n",
       "    </tr>\n",
       "  </tbody>\n",
       "</table>\n",
       "</div>"
      ],
      "text/plain": [
       "                       C\n",
       "Selected Parameter  0.05"
      ]
     },
     "execution_count": 51,
     "metadata": {},
     "output_type": "execute_result"
    }
   ],
   "source": [
    "pd.DataFrame.from_dict(LR_cv_over.best_params_, orient='index', columns=['Selected Parameter']).T"
   ]
  },
  {
   "cell_type": "code",
   "execution_count": 52,
   "metadata": {},
   "outputs": [
    {
     "data": {
      "text/plain": [
       "<AxesSubplot:>"
      ]
     },
     "execution_count": 52,
     "metadata": {},
     "output_type": "execute_result"
    },
    {
     "data": {
      "image/png": "[encoded data removed]",
      "text/plain": [
       "<Figure size 432x288 with 2 Axes>"
      ]
     },
     "metadata": {
      "needs_background": "light"
     },
     "output_type": "display_data"
    }
   ],
   "source": [
    "cf_matrix = confusion_matrix(y_test_over, y_pred_over)\n",
    "group_names = ['True Neg','False Pos','False Neg','True Pos']\n",
    "group_counts = ['{0:0.0f}'.format(value) for value in\n",
    "                cf_matrix.flatten()]\n",
    "group_percentages = ['{0:.2%}'.format(value) for value in\n",
    "                     cf_matrix.flatten()/np.sum(cf_matrix)]\n",
    "labels = [f'{v1}\\n{v2}\\n{v3}' for v1, v2, v3 in\n",
    "          zip(group_names,group_counts,group_percentages)]\n",
    "labels = np.asarray(labels).reshape(2,2)\n",
    "sns.heatmap(cf_matrix, annot=labels, fmt='', cmap='Blues')\n"
   ]
  },
  {
   "cell_type": "markdown",
   "metadata": {},
   "source": [
    "The results of the over-sampling data show the same accuracy score and AUC & ROC of 94%."
   ]
  },
  {
   "cell_type": "markdown",
   "metadata": {},
   "source": [
    "#### SVM"
   ]
  },
  {
   "cell_type": "code",
   "execution_count": 53,
   "metadata": {},
   "outputs": [
    {
     "data": {
      "text/html": [
       "<div>\n",
       "<style scoped>\n",
       "    .dataframe tbody tr th:only-of-type {\n",
       "        vertical-align: middle;\n",
       "    }\n",
       "\n",
       "    .dataframe tbody tr th {\n",
       "        vertical-align: top;\n",
       "    }\n",
       "\n",
       "    .dataframe thead th {\n",
       "        text-align: right;\n",
       "    }\n",
       "</style>\n",
       "<table border=\"1\" class=\"dataframe\">\n",
       "  <thead>\n",
       "    <tr style=\"text-align: right;\">\n",
       "      <th></th>\n",
       "      <th>Accuracy</th>\n",
       "      <th>AUC &amp; ROC</th>\n",
       "    </tr>\n",
       "  </thead>\n",
       "  <tbody>\n",
       "    <tr>\n",
       "      <th>SVM</th>\n",
       "      <td>0.998</td>\n",
       "      <td>0.627</td>\n",
       "    </tr>\n",
       "  </tbody>\n",
       "</table>\n",
       "</div>"
      ],
      "text/plain": [
       "     Accuracy  AUC & ROC\n",
       "SVM     0.998      0.627"
      ]
     },
     "execution_count": 53,
     "metadata": {},
     "output_type": "execute_result"
    }
   ],
   "source": [
    "svc = SVC()\n",
    "svc.fit(X_train, y_train)\n",
    "y_pred = svc.predict(X_test)\n",
    "\n",
    "SVM_accuracy = round(accuracy_score(y_test, y_pred), 3)\n",
    "SVM_AUC_ROC = round(sklearn.metrics.roc_auc_score(y_test, y_pred),3)\n",
    "pd.DataFrame([SVM_accuracy, SVM_AUC_ROC], index=['Accuracy', 'AUC & ROC'], columns=['SVM']).T"
   ]
  },
  {
   "cell_type": "code",
   "execution_count": 54,
   "metadata": {},
   "outputs": [
    {
     "data": {
      "text/plain": [
       "<AxesSubplot:>"
      ]
     },
     "execution_count": 54,
     "metadata": {},
     "output_type": "execute_result"
    },
    {
     "data": {
      "image/png": "[encoded data removed]",
      "text/plain": [
       "<Figure size 432x288 with 2 Axes>"
      ]
     },
     "metadata": {
      "needs_background": "light"
     },
     "output_type": "display_data"
    }
   ],
   "source": [
    "cf_matrix = confusion_matrix(y_test, y_pred)\n",
    "group_names = ['True Neg','False Pos','False Neg','True Pos']\n",
    "group_counts = ['{0:0.0f}'.format(value) for value in\n",
    "                cf_matrix.flatten()]\n",
    "group_percentages = ['{0:.2%}'.format(value) for value in\n",
    "                     cf_matrix.flatten()/np.sum(cf_matrix)]\n",
    "labels = [f'{v1}\\n{v2}\\n{v3}' for v1, v2, v3 in\n",
    "          zip(group_names,group_counts,group_percentages)]\n",
    "labels = np.asarray(labels).reshape(2,2)\n",
    "sns.heatmap(cf_matrix, annot=labels, fmt='', cmap='Blues')"
   ]
  },
  {
   "cell_type": "markdown",
   "metadata": {},
   "source": [
    "The results of the original data show accuracy score of 99% and AUC & ROC score of 62%."
   ]
  },
  {
   "cell_type": "markdown",
   "metadata": {},
   "source": [
    "#### Under-sampling:"
   ]
  },
  {
   "cell_type": "code",
   "execution_count": 55,
   "metadata": {},
   "outputs": [
    {
     "data": {
      "text/html": [
       "<div>\n",
       "<style scoped>\n",
       "    .dataframe tbody tr th:only-of-type {\n",
       "        vertical-align: middle;\n",
       "    }\n",
       "\n",
       "    .dataframe tbody tr th {\n",
       "        vertical-align: top;\n",
       "    }\n",
       "\n",
       "    .dataframe thead th {\n",
       "        text-align: right;\n",
       "    }\n",
       "</style>\n",
       "<table border=\"1\" class=\"dataframe\">\n",
       "  <thead>\n",
       "    <tr style=\"text-align: right;\">\n",
       "      <th></th>\n",
       "      <th>Accuracy</th>\n",
       "      <th>AUC &amp; ROC</th>\n",
       "    </tr>\n",
       "  </thead>\n",
       "  <tbody>\n",
       "    <tr>\n",
       "      <th>SVM</th>\n",
       "      <td>0.741</td>\n",
       "      <td>0.749</td>\n",
       "    </tr>\n",
       "  </tbody>\n",
       "</table>\n",
       "</div>"
      ],
      "text/plain": [
       "     Accuracy  AUC & ROC\n",
       "SVM     0.741      0.749"
      ]
     },
     "execution_count": 55,
     "metadata": {},
     "output_type": "execute_result"
    }
   ],
   "source": [
    "svc = SVC()\n",
    "svc.fit(X_train_under, y_train_under)\n",
    "y_pred_under = svc.predict(X_test_under)\n",
    "\n",
    "SVM_under_accuracy = round(accuracy_score(y_test_under, y_pred_under), 3)\n",
    "SVM_under_AUC_ROC = round(sklearn.metrics.roc_auc_score(y_test_under, y_pred_under),3)\n",
    "pd.DataFrame([SVM_under_accuracy, SVM_under_AUC_ROC], index=['Accuracy', 'AUC & ROC'], columns=['SVM']).T"
   ]
  },
  {
   "cell_type": "code",
   "execution_count": 56,
   "metadata": {},
   "outputs": [
    {
     "data": {
      "text/plain": [
       "<AxesSubplot:>"
      ]
     },
     "execution_count": 56,
     "metadata": {},
     "output_type": "execute_result"
    },
    {
     "data": {
      "image/png": "[encoded data removed]",
      "text/plain": [
       "<Figure size 432x288 with 2 Axes>"
      ]
     },
     "metadata": {
      "needs_background": "light"
     },
     "output_type": "display_data"
    }
   ],
   "source": [
    "cf_matrix = confusion_matrix(y_test_under, y_pred_under)\n",
    "group_names = ['True Neg','False Pos','False Neg','True Pos']\n",
    "group_counts = ['{0:0.0f}'.format(value) for value in\n",
    "                cf_matrix.flatten()]\n",
    "group_percentages = ['{0:.2%}'.format(value) for value in\n",
    "                     cf_matrix.flatten()/np.sum(cf_matrix)]\n",
    "labels = [f'{v1}\\n{v2}\\n{v3}' for v1, v2, v3 in\n",
    "          zip(group_names,group_counts,group_percentages)]\n",
    "labels = np.asarray(labels).reshape(2,2)\n",
    "sns.heatmap(cf_matrix, annot=labels, fmt='', cmap='Blues')"
   ]
  },
  {
   "cell_type": "markdown",
   "metadata": {},
   "source": [
    "The results show a relatively close score in accuracy (74%) and in the AUC & ROC score (74%)."
   ]
  },
  {
   "cell_type": "markdown",
   "metadata": {},
   "source": [
    "#### Over-sampling"
   ]
  },
  {
   "cell_type": "code",
   "execution_count": 57,
   "metadata": {},
   "outputs": [
    {
     "data": {
      "text/html": [
       "<div>\n",
       "<style scoped>\n",
       "    .dataframe tbody tr th:only-of-type {\n",
       "        vertical-align: middle;\n",
       "    }\n",
       "\n",
       "    .dataframe tbody tr th {\n",
       "        vertical-align: top;\n",
       "    }\n",
       "\n",
       "    .dataframe thead th {\n",
       "        text-align: right;\n",
       "    }\n",
       "</style>\n",
       "<table border=\"1\" class=\"dataframe\">\n",
       "  <thead>\n",
       "    <tr style=\"text-align: right;\">\n",
       "      <th></th>\n",
       "      <th>Accuracy</th>\n",
       "      <th>AUC &amp; ROC</th>\n",
       "    </tr>\n",
       "  </thead>\n",
       "  <tbody>\n",
       "    <tr>\n",
       "      <th>SVM</th>\n",
       "      <td>0.946</td>\n",
       "      <td>0.945</td>\n",
       "    </tr>\n",
       "  </tbody>\n",
       "</table>\n",
       "</div>"
      ],
      "text/plain": [
       "     Accuracy  AUC & ROC\n",
       "SVM     0.946      0.945"
      ]
     },
     "execution_count": 57,
     "metadata": {},
     "output_type": "execute_result"
    }
   ],
   "source": [
    "svc = SVC()\n",
    "svc.fit(X_train_over, y_train_over)\n",
    "y_pred_over = svc.predict(X_test_over)\n",
    "\n",
    "SVM_over_accuracy = round(accuracy_score(y_test_over, y_pred_over), 3)\n",
    "SVM_over_AUC_ROC = round(sklearn.metrics.roc_auc_score(y_test_over, y_pred_over),3)\n",
    "pd.DataFrame([SVM_over_accuracy, SVM_over_AUC_ROC], index=['Accuracy', 'AUC & ROC'], columns=['SVM']).T"
   ]
  },
  {
   "cell_type": "code",
   "execution_count": 58,
   "metadata": {},
   "outputs": [
    {
     "data": {
      "text/plain": [
       "<AxesSubplot:>"
      ]
     },
     "execution_count": 58,
     "metadata": {},
     "output_type": "execute_result"
    },
    {
     "data": {
      "image/png": "[encoded data removed]",
      "text/plain": [
       "<Figure size 432x288 with 2 Axes>"
      ]
     },
     "metadata": {
      "needs_background": "light"
     },
     "output_type": "display_data"
    }
   ],
   "source": [
    "cf_matrix = confusion_matrix(y_test_over, y_pred_over)\n",
    "group_names = ['True Neg','False Pos','False Neg','True Pos']\n",
    "group_counts = ['{0:0.0f}'.format(value) for value in\n",
    "                cf_matrix.flatten()]\n",
    "group_percentages = ['{0:.2%}'.format(value) for value in\n",
    "                     cf_matrix.flatten()/np.sum(cf_matrix)]\n",
    "labels = [f'{v1}\\n{v2}\\n{v3}' for v1, v2, v3 in\n",
    "          zip(group_names,group_counts,group_percentages)]\n",
    "labels = np.asarray(labels).reshape(2,2)\n",
    "sns.heatmap(cf_matrix, annot=labels, fmt='', cmap='Blues')"
   ]
  },
  {
   "cell_type": "markdown",
   "metadata": {},
   "source": [
    "The results show the same score in accuracy (94%) and in the AUC & ROC score (94%)"
   ]
  },
  {
   "cell_type": "markdown",
   "metadata": {},
   "source": [
    "\n",
    "#### Random Forest"
   ]
  },
  {
   "cell_type": "code",
   "execution_count": 59,
   "metadata": {},
   "outputs": [
    {
     "data": {
      "text/html": [
       "<div>\n",
       "<style scoped>\n",
       "    .dataframe tbody tr th:only-of-type {\n",
       "        vertical-align: middle;\n",
       "    }\n",
       "\n",
       "    .dataframe tbody tr th {\n",
       "        vertical-align: top;\n",
       "    }\n",
       "\n",
       "    .dataframe thead th {\n",
       "        text-align: right;\n",
       "    }\n",
       "</style>\n",
       "<table border=\"1\" class=\"dataframe\">\n",
       "  <thead>\n",
       "    <tr style=\"text-align: right;\">\n",
       "      <th></th>\n",
       "      <th>Accuracy</th>\n",
       "      <th>AUC &amp; ROC</th>\n",
       "    </tr>\n",
       "  </thead>\n",
       "  <tbody>\n",
       "    <tr>\n",
       "      <th>Random Forest Accuracy</th>\n",
       "      <td>0.999</td>\n",
       "      <td>0.818</td>\n",
       "    </tr>\n",
       "  </tbody>\n",
       "</table>\n",
       "</div>"
      ],
      "text/plain": [
       "                        Accuracy  AUC & ROC\n",
       "Random Forest Accuracy     0.999      0.818"
      ]
     },
     "execution_count": 59,
     "metadata": {},
     "output_type": "execute_result"
    }
   ],
   "source": [
    "rf = RandomForestClassifier()\n",
    "rf.fit(X_train, y_train)\n",
    "y_pred = rf.predict(X_test)\n",
    "\n",
    "RF_accuracy = round(accuracy_score(y_test, y_pred), 3)\n",
    "RF_AUC_ROC = round(sklearn.metrics.roc_auc_score(y_test, y_pred),3)\n",
    "pd.DataFrame([RF_accuracy, RF_AUC_ROC], index=['Accuracy', 'AUC & ROC'], columns=['Random Forest Accuracy']).T"
   ]
  },
  {
   "cell_type": "code",
   "execution_count": 60,
   "metadata": {},
   "outputs": [
    {
     "data": {
      "text/plain": [
       "<AxesSubplot:>"
      ]
     },
     "execution_count": 60,
     "metadata": {},
     "output_type": "execute_result"
    },
    {
     "data": {
      "image/png": "[encoded data removed]",
      "text/plain": [
       "<Figure size 432x288 with 2 Axes>"
      ]
     },
     "metadata": {
      "needs_background": "light"
     },
     "output_type": "display_data"
    }
   ],
   "source": [
    "cf_matrix = confusion_matrix(y_test, y_pred)\n",
    "group_names = ['True Neg','False Pos','False Neg','True Pos']\n",
    "group_counts = ['{0:0.0f}'.format(value) for value in\n",
    "                cf_matrix.flatten()]\n",
    "group_percentages = ['{0:.2%}'.format(value) for value in\n",
    "                     cf_matrix.flatten()/np.sum(cf_matrix)]\n",
    "labels = [f'{v1}\\n{v2}\\n{v3}' for v1, v2, v3 in\n",
    "          zip(group_names,group_counts,group_percentages)]\n",
    "labels = np.asarray(labels).reshape(2,2)\n",
    "sns.heatmap(cf_matrix, annot=labels, fmt='', cmap='Blues')"
   ]
  },
  {
   "cell_type": "markdown",
   "metadata": {},
   "source": [
    "The results show a higher score in accuracy (99%) and in the AUC & ROC score (81%)"
   ]
  },
  {
   "cell_type": "markdown",
   "metadata": {},
   "source": [
    "#### Under-sampling"
   ]
  },
  {
   "cell_type": "code",
   "execution_count": 61,
   "metadata": {},
   "outputs": [
    {
     "data": {
      "text/html": [
       "<div>\n",
       "<style scoped>\n",
       "    .dataframe tbody tr th:only-of-type {\n",
       "        vertical-align: middle;\n",
       "    }\n",
       "\n",
       "    .dataframe tbody tr th {\n",
       "        vertical-align: top;\n",
       "    }\n",
       "\n",
       "    .dataframe thead th {\n",
       "        text-align: right;\n",
       "    }\n",
       "</style>\n",
       "<table border=\"1\" class=\"dataframe\">\n",
       "  <thead>\n",
       "    <tr style=\"text-align: right;\">\n",
       "      <th></th>\n",
       "      <th>Accuracy</th>\n",
       "      <th>AUC &amp; ROC</th>\n",
       "    </tr>\n",
       "  </thead>\n",
       "  <tbody>\n",
       "    <tr>\n",
       "      <th>Random Forest Accuracy</th>\n",
       "      <td>0.917</td>\n",
       "      <td>0.919</td>\n",
       "    </tr>\n",
       "  </tbody>\n",
       "</table>\n",
       "</div>"
      ],
      "text/plain": [
       "                        Accuracy  AUC & ROC\n",
       "Random Forest Accuracy     0.917      0.919"
      ]
     },
     "execution_count": 61,
     "metadata": {},
     "output_type": "execute_result"
    }
   ],
   "source": [
    "rf = RandomForestClassifier()\n",
    "rf.fit(X_train_under, y_train_under)\n",
    "y_pred_under = rf.predict(X_test_under)\n",
    "\n",
    "RF_under_accuracy = round(accuracy_score(y_test_under, y_pred_under), 3)\n",
    "RF_under_AUC_ROC = round(sklearn.metrics.roc_auc_score(y_test_under, y_pred_under),3)\n",
    "pd.DataFrame([RF_under_accuracy, RF_under_AUC_ROC], index=['Accuracy', 'AUC & ROC'], columns=['Random Forest Accuracy']).T"
   ]
  },
  {
   "cell_type": "code",
   "execution_count": 62,
   "metadata": {},
   "outputs": [
    {
     "data": {
      "text/plain": [
       "<AxesSubplot:>"
      ]
     },
     "execution_count": 62,
     "metadata": {},
     "output_type": "execute_result"
    },
    {
     "data": {
      "image/png": "[encoded data removed]",
      "text/plain": [
       "<Figure size 432x288 with 2 Axes>"
      ]
     },
     "metadata": {
      "needs_background": "light"
     },
     "output_type": "display_data"
    }
   ],
   "source": [
    "cf_matrix = confusion_matrix(y_test_under, y_pred_under)\n",
    "group_names = ['True Neg','False Pos','False Neg','True Pos']\n",
    "group_counts = ['{0:0.0f}'.format(value) for value in\n",
    "                cf_matrix.flatten()]\n",
    "group_percentages = ['{0:.2%}'.format(value) for value in\n",
    "                     cf_matrix.flatten()/np.sum(cf_matrix)]\n",
    "labels = [f'{v1}\\n{v2}\\n{v3}' for v1, v2, v3 in\n",
    "          zip(group_names,group_counts,group_percentages)]\n",
    "labels = np.asarray(labels).reshape(2,2)\n",
    "sns.heatmap(cf_matrix, annot=labels, fmt='', cmap='Blues')"
   ]
  },
  {
   "cell_type": "markdown",
   "metadata": {},
   "source": [
    "The results show a higher score in accuracy (91%) and in the AUC & ROC score (91%)"
   ]
  },
  {
   "cell_type": "markdown",
   "metadata": {},
   "source": [
    "#### Over-sampling"
   ]
  },
  {
   "cell_type": "code",
   "execution_count": 63,
   "metadata": {},
   "outputs": [
    {
     "data": {
      "text/html": [
       "<div>\n",
       "<style scoped>\n",
       "    .dataframe tbody tr th:only-of-type {\n",
       "        vertical-align: middle;\n",
       "    }\n",
       "\n",
       "    .dataframe tbody tr th {\n",
       "        vertical-align: top;\n",
       "    }\n",
       "\n",
       "    .dataframe thead th {\n",
       "        text-align: right;\n",
       "    }\n",
       "</style>\n",
       "<table border=\"1\" class=\"dataframe\">\n",
       "  <thead>\n",
       "    <tr style=\"text-align: right;\">\n",
       "      <th></th>\n",
       "      <th>Accuracy</th>\n",
       "      <th>AUC &amp; ROC</th>\n",
       "    </tr>\n",
       "  </thead>\n",
       "  <tbody>\n",
       "    <tr>\n",
       "      <th>Random Forest Accuracy</th>\n",
       "      <td>1.0</td>\n",
       "      <td>1.0</td>\n",
       "    </tr>\n",
       "  </tbody>\n",
       "</table>\n",
       "</div>"
      ],
      "text/plain": [
       "                        Accuracy  AUC & ROC\n",
       "Random Forest Accuracy       1.0        1.0"
      ]
     },
     "execution_count": 63,
     "metadata": {},
     "output_type": "execute_result"
    }
   ],
   "source": [
    "rf = RandomForestClassifier()\n",
    "rf.fit(X_train_over, y_train_over)\n",
    "y_pred_over = rf.predict(X_test_over)\n",
    "\n",
    "RF_over_accuracy = round(accuracy_score(y_test_over, y_pred_over), 3)\n",
    "RF_over_AUC_ROC = round(sklearn.metrics.roc_auc_score(y_test_over, y_pred_over),3)\n",
    "pd.DataFrame([RF_over_accuracy, RF_over_AUC_ROC], index=['Accuracy', 'AUC & ROC'], columns=['Random Forest Accuracy']).T"
   ]
  },
  {
   "cell_type": "code",
   "execution_count": 64,
   "metadata": {},
   "outputs": [
    {
     "data": {
      "text/plain": [
       "<AxesSubplot:>"
      ]
     },
     "execution_count": 64,
     "metadata": {},
     "output_type": "execute_result"
    },
    {
     "data": {
      "image/png": "[encoded data removed]",
      "text/plain": [
       "<Figure size 432x288 with 2 Axes>"
      ]
     },
     "metadata": {
      "needs_background": "light"
     },
     "output_type": "display_data"
    }
   ],
   "source": [
    "cf_matrix = confusion_matrix(y_test_over, y_pred_over)\n",
    "group_names = ['True Neg','False Pos','False Neg','True Pos']\n",
    "group_counts = ['{0:0.0f}'.format(value) for value in\n",
    "                cf_matrix.flatten()]\n",
    "group_percentages = ['{0:.2%}'.format(value) for value in\n",
    "                     cf_matrix.flatten()/np.sum(cf_matrix)]\n",
    "labels = [f'{v1}\\n{v2}\\n{v3}' for v1, v2, v3 in\n",
    "          zip(group_names,group_counts,group_percentages)]\n",
    "labels = np.asarray(labels).reshape(2,2)\n",
    "sns.heatmap(cf_matrix, annot=labels, fmt='', cmap='Blues')"
   ]
  },
  {
   "cell_type": "markdown",
   "metadata": {},
   "source": [
    "The results show a perfect classification in accuracy (100%) and in the AUC & ROC score (100%)"
   ]
  },
  {
   "cell_type": "markdown",
   "metadata": {},
   "source": [
    "#### Gradient Tree Boosting"
   ]
  },
  {
   "cell_type": "code",
   "execution_count": 65,
   "metadata": {},
   "outputs": [
    {
     "data": {
      "text/html": [
       "<div>\n",
       "<style scoped>\n",
       "    .dataframe tbody tr th:only-of-type {\n",
       "        vertical-align: middle;\n",
       "    }\n",
       "\n",
       "    .dataframe tbody tr th {\n",
       "        vertical-align: top;\n",
       "    }\n",
       "\n",
       "    .dataframe thead th {\n",
       "        text-align: right;\n",
       "    }\n",
       "</style>\n",
       "<table border=\"1\" class=\"dataframe\">\n",
       "  <thead>\n",
       "    <tr style=\"text-align: right;\">\n",
       "      <th></th>\n",
       "      <th>Accuracy</th>\n",
       "      <th>AUC &amp; ROC</th>\n",
       "    </tr>\n",
       "  </thead>\n",
       "  <tbody>\n",
       "    <tr>\n",
       "      <th>Gradient Tree Boosting</th>\n",
       "      <td>0.998</td>\n",
       "      <td>0.836</td>\n",
       "    </tr>\n",
       "  </tbody>\n",
       "</table>\n",
       "</div>"
      ],
      "text/plain": [
       "                        Accuracy  AUC & ROC\n",
       "Gradient Tree Boosting     0.998      0.836"
      ]
     },
     "execution_count": 65,
     "metadata": {},
     "output_type": "execute_result"
    }
   ],
   "source": [
    "gb = GradientBoostingClassifier()\n",
    "gb.fit(X_train, y_train)\n",
    "y_pred = gb.predict(X_test)\n",
    "\n",
    "GB_accuracy = round(accuracy_score(y_test, y_pred), 3)\n",
    "GB_AUC_ROC = round(sklearn.metrics.roc_auc_score(y_test, y_pred),3)\n",
    "pd.DataFrame([GB_accuracy, GB_AUC_ROC], index=['Accuracy', 'AUC & ROC'], columns=['Gradient Tree Boosting']).T"
   ]
  },
  {
   "cell_type": "code",
   "execution_count": 66,
   "metadata": {},
   "outputs": [
    {
     "data": {
      "text/plain": [
       "<AxesSubplot:>"
      ]
     },
     "execution_count": 66,
     "metadata": {},
     "output_type": "execute_result"
    },
    {
     "data": {
      "image/png": "[encoded data removed]",
      "text/plain": [
       "<Figure size 432x288 with 2 Axes>"
      ]
     },
     "metadata": {
      "needs_background": "light"
     },
     "output_type": "display_data"
    }
   ],
   "source": [
    "cf_matrix = confusion_matrix(y_test, y_pred)\n",
    "group_names = ['True Neg','False Pos','False Neg','True Pos']\n",
    "group_counts = ['{0:0.0f}'.format(value) for value in\n",
    "                cf_matrix.flatten()]\n",
    "group_percentages = ['{0:.2%}'.format(value) for value in\n",
    "                     cf_matrix.flatten()/np.sum(cf_matrix)]\n",
    "labels = [f'{v1}\\n{v2}\\n{v3}' for v1, v2, v3 in\n",
    "          zip(group_names,group_counts,group_percentages)]\n",
    "labels = np.asarray(labels).reshape(2,2)\n",
    "sns.heatmap(cf_matrix, annot=labels, fmt='', cmap='Blues')"
   ]
  },
  {
   "cell_type": "markdown",
   "metadata": {},
   "source": [
    "The results show a higher score in accuracy (99%) and in AUC & ROC score (83%)"
   ]
  },
  {
   "cell_type": "markdown",
   "metadata": {},
   "source": [
    "#### Under-sampling"
   ]
  },
  {
   "cell_type": "code",
   "execution_count": 67,
   "metadata": {},
   "outputs": [
    {
     "data": {
      "text/html": [
       "<div>\n",
       "<style scoped>\n",
       "    .dataframe tbody tr th:only-of-type {\n",
       "        vertical-align: middle;\n",
       "    }\n",
       "\n",
       "    .dataframe tbody tr th {\n",
       "        vertical-align: top;\n",
       "    }\n",
       "\n",
       "    .dataframe thead th {\n",
       "        text-align: right;\n",
       "    }\n",
       "</style>\n",
       "<table border=\"1\" class=\"dataframe\">\n",
       "  <thead>\n",
       "    <tr style=\"text-align: right;\">\n",
       "      <th></th>\n",
       "      <th>Accuracy</th>\n",
       "      <th>AUC &amp; ROC</th>\n",
       "    </tr>\n",
       "  </thead>\n",
       "  <tbody>\n",
       "    <tr>\n",
       "      <th>Gradient Tree Boosting</th>\n",
       "      <td>0.907</td>\n",
       "      <td>0.91</td>\n",
       "    </tr>\n",
       "  </tbody>\n",
       "</table>\n",
       "</div>"
      ],
      "text/plain": [
       "                        Accuracy  AUC & ROC\n",
       "Gradient Tree Boosting     0.907       0.91"
      ]
     },
     "execution_count": 67,
     "metadata": {},
     "output_type": "execute_result"
    }
   ],
   "source": [
    "gb = GradientBoostingClassifier()\n",
    "gb.fit(X_train_under, y_train_under)\n",
    "y_pred_under = gb.predict(X_test_under)\n",
    "\n",
    "GB_under_accuracy = round(accuracy_score(y_test_under, y_pred_under), 3)\n",
    "GB_under_AUC_ROC = round(sklearn.metrics.roc_auc_score(y_test_under, y_pred_under),3)\n",
    "pd.DataFrame([GB_under_accuracy, GB_under_AUC_ROC], index=['Accuracy', 'AUC & ROC'], columns=['Gradient Tree Boosting']).T"
   ]
  },
  {
   "cell_type": "code",
   "execution_count": 68,
   "metadata": {},
   "outputs": [
    {
     "data": {
      "text/plain": [
       "<AxesSubplot:>"
      ]
     },
     "execution_count": 68,
     "metadata": {},
     "output_type": "execute_result"
    },
    {
     "data": {
      "image/png": "[encoded data removed]",
      "text/plain": [
       "<Figure size 432x288 with 2 Axes>"
      ]
     },
     "metadata": {
      "needs_background": "light"
     },
     "output_type": "display_data"
    }
   ],
   "source": [
    "cf_matrix = confusion_matrix(y_test_under, y_pred_under)\n",
    "group_names = ['True Neg','False Pos','False Neg','True Pos']\n",
    "group_counts = ['{0:0.0f}'.format(value) for value in\n",
    "                cf_matrix.flatten()]\n",
    "group_percentages = ['{0:.2%}'.format(value) for value in\n",
    "                     cf_matrix.flatten()/np.sum(cf_matrix)]\n",
    "labels = [f'{v1}\\n{v2}\\n{v3}' for v1, v2, v3 in\n",
    "          zip(group_names,group_counts,group_percentages)]\n",
    "labels = np.asarray(labels).reshape(2,2)\n",
    "sns.heatmap(cf_matrix, annot=labels, fmt='', cmap='Blues')"
   ]
  },
  {
   "cell_type": "markdown",
   "metadata": {},
   "source": [
    "The results show a high score in accuracy (90%) and in AUC & ROC score (91%)"
   ]
  },
  {
   "cell_type": "markdown",
   "metadata": {},
   "source": [
    "#### Over-sampling:"
   ]
  },
  {
   "cell_type": "code",
   "execution_count": 75,
   "metadata": {},
   "outputs": [
    {
     "data": {
      "text/html": [
       "<div>\n",
       "<style scoped>\n",
       "    .dataframe tbody tr th:only-of-type {\n",
       "        vertical-align: middle;\n",
       "    }\n",
       "\n",
       "    .dataframe tbody tr th {\n",
       "        vertical-align: top;\n",
       "    }\n",
       "\n",
       "    .dataframe thead th {\n",
       "        text-align: right;\n",
       "    }\n",
       "</style>\n",
       "<table border=\"1\" class=\"dataframe\">\n",
       "  <thead>\n",
       "    <tr style=\"text-align: right;\">\n",
       "      <th></th>\n",
       "      <th>Accuracy</th>\n",
       "      <th>AUC &amp; ROC</th>\n",
       "    </tr>\n",
       "  </thead>\n",
       "  <tbody>\n",
       "    <tr>\n",
       "      <th>Gradient Tree Boosting</th>\n",
       "      <td>0.907</td>\n",
       "      <td>0.91</td>\n",
       "    </tr>\n",
       "  </tbody>\n",
       "</table>\n",
       "</div>"
      ],
      "text/plain": [
       "                        Accuracy  AUC & ROC\n",
       "Gradient Tree Boosting     0.907       0.91"
      ]
     },
     "execution_count": 75,
     "metadata": {},
     "output_type": "execute_result"
    }
   ],
   "source": [
    "gb = GradientBoostingClassifier()\n",
    "gb.fit(X_train_over, y_train_over)\n",
    "y_pred_over = gb.predict(X_test_over)\n",
    "\n",
    "GB_over_accuracy = round(accuracy_score(y_test_over, y_pred_over), 3)\n",
    "GB_over_AUC_ROC = round(sklearn.metrics.roc_auc_score(y_test_over, y_pred_over),3)\n",
    "pd.DataFrame([GB_under_accuracy, GB_under_AUC_ROC], index=['Accuracy', 'AUC & ROC'], columns=['Gradient Tree Boosting']).T"
   ]
  },
  {
   "cell_type": "code",
   "execution_count": 76,
   "metadata": {},
   "outputs": [
    {
     "data": {
      "text/plain": [
       "<AxesSubplot:>"
      ]
     },
     "execution_count": 76,
     "metadata": {},
     "output_type": "execute_result"
    },
    {
     "data": {
      "image/png": "[encoded data removed]",
      "text/plain": [
       "<Figure size 432x288 with 2 Axes>"
      ]
     },
     "metadata": {
      "needs_background": "light"
     },
     "output_type": "display_data"
    }
   ],
   "source": [
    "cf_matrix = confusion_matrix(y_test_over, y_pred_over)\n",
    "group_names = ['True Neg','False Pos','False Neg','True Pos']\n",
    "group_counts = ['{0:0.0f}'.format(value) for value in\n",
    "                cf_matrix.flatten()]\n",
    "group_percentages = ['{0:.2%}'.format(value) for value in\n",
    "                     cf_matrix.flatten()/np.sum(cf_matrix)]\n",
    "labels = [f'{v1}\\n{v2}\\n{v3}' for v1, v2, v3 in\n",
    "          zip(group_names,group_counts,group_percentages)]\n",
    "labels = np.asarray(labels).reshape(2,2)\n",
    "sns.heatmap(cf_matrix, annot=labels, fmt='', cmap='Blues')"
   ]
  },
  {
   "cell_type": "markdown",
   "metadata": {},
   "source": [
    "The results show a high score in accuracy (90%) and in AUC & ROC score (91%)"
   ]
  },
  {
   "cell_type": "markdown",
   "metadata": {},
   "source": [
    "## Summary and Conclusions"
   ]
  },
  {
   "cell_type": "markdown",
   "metadata": {},
   "source": [
    "In conclusion, it seems that the data is distributed in a multivariate normal distribution or very close to it.\n",
    "The algorithm with the highest score is Random Forest.\n",
    "In addition it seems that when over-sampling the data, the level of accuracy in the classification increased."
   ]
  }
 ],
 "metadata": {
  "kernelspec": {
   "display_name": "Python 3",
   "language": "python",
   "name": "python3"
  },
  "language_info": {
   "codemirror_mode": {
    "name": "ipython",
    "version": 3
   },
   "file_extension": ".py",
   "mimetype": "text/x-python",
   "name": "python",
   "nbconvert_exporter": "python",
   "pygments_lexer": "ipython3",
   "version": "3.8.3"
  }
 },
 "nbformat": 4,
 "nbformat_minor": 4
}
